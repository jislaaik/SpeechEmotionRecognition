{
 "cells": [
  {
   "cell_type": "code",
   "execution_count": 1,
   "metadata": {},
   "outputs": [],
   "source": [
    "############################# NEW APPROACH\n",
    "import random\n",
    "import numpy\n",
    "import math\n",
    "# Keras\n",
    "import keras\n",
    "from keras.optimizers import SGD\n",
    "from keras import regularizers\n",
    "from keras.preprocessing import sequence\n",
    "from keras.preprocessing.text import Tokenizer\n",
    "from keras.preprocessing.sequence import pad_sequences\n",
    "from keras.models import Sequential, Model, model_from_json\n",
    "from keras.layers import Dense, Embedding, LSTM\n",
    "from keras.layers import Input, Flatten, Dropout, Activation, BatchNormalization\n",
    "from keras.layers import Conv1D, MaxPooling1D, AveragePooling1D\n",
    "from keras.utils import np_utils, to_categorical\n",
    "from keras.callbacks import (EarlyStopping, LearningRateScheduler,\n",
    "                             ModelCheckpoint, TensorBoard, ReduceLROnPlateau)\n",
    "from keras import losses, models, optimizers\n",
    "from keras.activations import relu, softmax\n",
    "from keras.layers import (Convolution2D, GlobalAveragePooling2D, BatchNormalization, Flatten, Dropout,\n",
    "                          GlobalMaxPool2D, MaxPool2D, AveragePooling2D, concatenate, Activation, Input, Dense)\n",
    "\n",
    "# sklearn\n",
    "from sklearn.metrics import confusion_matrix, accuracy_score\n",
    "from sklearn.model_selection import train_test_split\n",
    "from sklearn.preprocessing import LabelEncoder\n",
    "\n",
    "# Other  \n",
    "from tqdm import tqdm, tqdm_pandas\n",
    "import scipy\n",
    "from scipy.stats import skew\n",
    "import librosa\n",
    "import librosa.display\n",
    "import json\n",
    "import numpy as np\n",
    "import matplotlib.pyplot as plt\n",
    "import tensorflow as tf\n",
    "from matplotlib.pyplot import specgram\n",
    "import pandas as pd\n",
    "import seaborn as sns\n",
    "import glob \n",
    "import os\n",
    "import sys\n",
    "import IPython.display as ipd  # To play sound in the notebook\n",
    "import warnings\n",
    "# ignore warnings \n",
    "if not sys.warnoptions:\n",
    "    warnings.simplefilter(\"ignore\")"
   ]
  },
  {
   "cell_type": "code",
   "execution_count": 2,
   "metadata": {},
   "outputs": [
    {
     "data": {
      "text/html": [
       "<div>\n",
       "<style scoped>\n",
       "    .dataframe tbody tr th:only-of-type {\n",
       "        vertical-align: middle;\n",
       "    }\n",
       "\n",
       "    .dataframe tbody tr th {\n",
       "        vertical-align: top;\n",
       "    }\n",
       "\n",
       "    .dataframe thead th {\n",
       "        text-align: right;\n",
       "    }\n",
       "</style>\n",
       "<table border=\"1\" class=\"dataframe\">\n",
       "  <thead>\n",
       "    <tr style=\"text-align: right;\">\n",
       "      <th></th>\n",
       "      <th>labels</th>\n",
       "      <th>source</th>\n",
       "      <th>path</th>\n",
       "    </tr>\n",
       "  </thead>\n",
       "  <tbody>\n",
       "    <tr>\n",
       "      <th>12157</th>\n",
       "      <td>female_disgust</td>\n",
       "      <td>CREMA</td>\n",
       "      <td>C:/Users/Moritz/Desktop/Data/CREMAD/AudioWAV/1...</td>\n",
       "    </tr>\n",
       "    <tr>\n",
       "      <th>12158</th>\n",
       "      <td>female_fear</td>\n",
       "      <td>CREMA</td>\n",
       "      <td>C:/Users/Moritz/Desktop/Data/CREMAD/AudioWAV/1...</td>\n",
       "    </tr>\n",
       "    <tr>\n",
       "      <th>12159</th>\n",
       "      <td>female_happy</td>\n",
       "      <td>CREMA</td>\n",
       "      <td>C:/Users/Moritz/Desktop/Data/CREMAD/AudioWAV/1...</td>\n",
       "    </tr>\n",
       "    <tr>\n",
       "      <th>12160</th>\n",
       "      <td>female_neutral</td>\n",
       "      <td>CREMA</td>\n",
       "      <td>C:/Users/Moritz/Desktop/Data/CREMAD/AudioWAV/1...</td>\n",
       "    </tr>\n",
       "    <tr>\n",
       "      <th>12161</th>\n",
       "      <td>female_sad</td>\n",
       "      <td>CREMA</td>\n",
       "      <td>C:/Users/Moritz/Desktop/Data/CREMAD/AudioWAV/1...</td>\n",
       "    </tr>\n",
       "  </tbody>\n",
       "</table>\n",
       "</div>"
      ],
      "text/plain": [
       "               labels source  \\\n",
       "12157  female_disgust  CREMA   \n",
       "12158     female_fear  CREMA   \n",
       "12159    female_happy  CREMA   \n",
       "12160  female_neutral  CREMA   \n",
       "12161      female_sad  CREMA   \n",
       "\n",
       "                                                    path  \n",
       "12157  C:/Users/Moritz/Desktop/Data/CREMAD/AudioWAV/1...  \n",
       "12158  C:/Users/Moritz/Desktop/Data/CREMAD/AudioWAV/1...  \n",
       "12159  C:/Users/Moritz/Desktop/Data/CREMAD/AudioWAV/1...  \n",
       "12160  C:/Users/Moritz/Desktop/Data/CREMAD/AudioWAV/1...  \n",
       "12161  C:/Users/Moritz/Desktop/Data/CREMAD/AudioWAV/1...  "
      ]
     },
     "execution_count": 2,
     "metadata": {},
     "output_type": "execute_result"
    }
   ],
   "source": [
    "dat = pd.read_csv(\"C:/Users/Moritz/Desktop/Data/Data_path.csv\")\n",
    "dat.head()\n",
    "dat.tail()"
   ]
  },
  {
   "cell_type": "code",
   "execution_count": 3,
   "metadata": {},
   "outputs": [],
   "source": [
    "fractions = np.array([0.6, 0.4])\n",
    "# shuffle my input\n",
    "dat = dat.sample(frac=1) \n",
    "# split into 3 parts\n",
    "train, valtest = np.array_split(dat, (fractions[:-1].cumsum() * len(dat)).astype(int))"
   ]
  },
  {
   "cell_type": "code",
   "execution_count": 4,
   "metadata": {},
   "outputs": [
    {
     "name": "stdout",
     "output_type": "stream",
     "text": [
      "                labels   source  \\\n",
      "3990      female_happy     TESS   \n",
      "3870       female_fear     TESS   \n",
      "3845       female_fear     TESS   \n",
      "812       female_angry  RAVDESS   \n",
      "6380        female_sad    CREMA   \n",
      "...                ...      ...   \n",
      "2254   female_surprise     TESS   \n",
      "11829     male_disgust    CREMA   \n",
      "6774      male_disgust    CREMA   \n",
      "11110      female_fear    CREMA   \n",
      "11226        male_fear    CREMA   \n",
      "\n",
      "                                                    path  \n",
      "3990   C:/Users/Moritz/Desktop/Data/TESS/YAF_happy/YA...  \n",
      "3870   C:/Users/Moritz/Desktop/Data/TESS/YAF_fear/YAF...  \n",
      "3845   C:/Users/Moritz/Desktop/Data/TESS/YAF_fear/YAF...  \n",
      "812    C:/Users/Moritz/Desktop/Data/RAVDESS/Actor_06/...  \n",
      "6380   C:/Users/Moritz/Desktop/Data/CREMAD/AudioWAV/1...  \n",
      "...                                                  ...  \n",
      "2254   C:/Users/Moritz/Desktop/Data/TESS/OAF_Pleasant...  \n",
      "11829  C:/Users/Moritz/Desktop/Data/CREMAD/AudioWAV/1...  \n",
      "6774   C:/Users/Moritz/Desktop/Data/CREMAD/AudioWAV/1...  \n",
      "11110  C:/Users/Moritz/Desktop/Data/CREMAD/AudioWAV/1...  \n",
      "11226  C:/Users/Moritz/Desktop/Data/CREMAD/AudioWAV/1...  \n",
      "\n",
      "[4865 rows x 3 columns]\n"
     ]
    }
   ],
   "source": [
    "print(valtest)"
   ]
  },
  {
   "cell_type": "code",
   "execution_count": 5,
   "metadata": {},
   "outputs": [
    {
     "data": {
      "text/plain": [
       "4865"
      ]
     },
     "execution_count": 5,
     "metadata": {},
     "output_type": "execute_result"
    }
   ],
   "source": [
    "len(valtest)"
   ]
  },
  {
   "cell_type": "code",
   "execution_count": 6,
   "metadata": {},
   "outputs": [],
   "source": [
    "'''\n",
    "1. Data Augmentation method   \n",
    "'''\n",
    "def noise(data):\n",
    "    \"\"\"\n",
    "    Adding White Noise.\n",
    "    \"\"\"\n",
    "    #RMS value of signal\n",
    "    RMS_s=math.sqrt(np.mean(data**2))\n",
    "    RMS_n=math.sqrt(RMS_s**2/(pow(10,20/10)))\n",
    "    noise=np.random.normal(0, RMS_n, data.shape[0])\n",
    "    data = data+noise \n",
    "    return data\n",
    "\n",
    "    \n",
    "def pitch(data, sampling_rate = 44100):\n",
    "    \"\"\"\n",
    "    Pitch Tuning.\n",
    "    \"\"\"\n",
    "    bins_per_octave = 12\n",
    "    pitch_pm = 2\n",
    "    pitch_change =  pitch_pm * 2*(np.random.uniform())   \n",
    "    data = librosa.effects.pitch_shift(data.astype('float64'), \n",
    "                                      sampling_rate, n_steps=pitch_change, \n",
    "                                      bins_per_octave=bins_per_octave)\n",
    "    return data\n",
    "\n",
    "def dyn_change(data):\n",
    "    \"\"\"\n",
    "    Random Value Change.\n",
    "    \"\"\"\n",
    "    dyn_change = np.random.uniform(low=-0.5 ,high=7)  # default low = 1.5, high = 3\n",
    "    return (data * dyn_change)\n",
    "    \n",
    "\n",
    "'''\n",
    "2. Extracting the MFCC feature as an image (Matrix).  \n",
    "'''\n",
    "def prepare_data(df, n, aug, mfcc):\n",
    "    X = np.empty(shape=(df.shape[0], n, 216, 1))\n",
    "    input_length = sampling_rate * audio_duration\n",
    "    \n",
    "    cnt = 0\n",
    "    for fname in tqdm(df.path):\n",
    "        file_path = fname\n",
    "        data, _ = librosa.load(file_path, sr=sampling_rate\n",
    "                               ,res_type=\"kaiser_fast\"\n",
    "                               ,duration=2.5\n",
    "                               ,offset=0.5\n",
    "                              )\n",
    "\n",
    "        # Random offset / Padding\n",
    "        if len(data) > input_length:\n",
    "            max_offset = len(data) - input_length\n",
    "            offset = np.random.randint(max_offset)\n",
    "            data = data[offset:(input_length+offset)]\n",
    "        else:\n",
    "            if input_length > len(data):\n",
    "                max_offset = input_length - len(data)\n",
    "                offset = np.random.randint(max_offset)\n",
    "            else:\n",
    "                offset = 0\n",
    "            data = np.pad(data, (offset, int(input_length) - len(data) - offset), \"constant\")\n",
    "\n",
    "        # Augmentation? \n",
    "        if aug == 1 :\n",
    "            data = noise(data)\n",
    "        elif aug == 2 :\n",
    "            data = pitch(data)\n",
    "        elif aug == 3 :\n",
    "            data = dyn_change(data)\n",
    "        else :\n",
    "            data = data\n",
    "        \n",
    "        # which feature?\n",
    "        if mfcc == 1:\n",
    "            # MFCC extraction \n",
    "            MFCC = librosa.feature.mfcc(data, sr=sampling_rate, n_mfcc=n_mfcc)\n",
    "            MFCC = np.expand_dims(MFCC, axis=-1)\n",
    "            X[cnt,] = MFCC\n",
    "            \n",
    "        else:\n",
    "            # Log-melspectogram\n",
    "            melspec = librosa.feature.melspectrogram(data, n_mels = n_melspec)   \n",
    "            logspec = librosa.amplitude_to_db(melspec)\n",
    "            logspec = np.expand_dims(logspec, axis=-1)\n",
    "            X[cnt,] = logspec\n",
    "            \n",
    "        cnt += 1\n",
    "    \n",
    "    return X\n",
    "\n",
    "\n",
    "'''\n",
    "3. Confusion matrix plot \n",
    "'''        \n",
    "def print_confusion_matrix(confusion_matrix, class_names, figsize = (10,7), fontsize=14):\n",
    "    '''Prints a confusion matrix, as returned by sklearn.metrics.confusion_matrix, as a heatmap.\n",
    "\n",
    "    Arguments\n",
    "    ---------\n",
    "    confusion_matrix: numpy.ndarray\n",
    "        The numpy.ndarray object returned from a call to sklearn.metrics.confusion_matrix. \n",
    "        Similarly constructed ndarrays can also be used.\n",
    "    class_names: list\n",
    "        An ordered list of class names, in the order they index the given confusion matrix.\n",
    "    figsize: tuple\n",
    "        A 2-long tuple, the first value determining the horizontal size of the ouputted figure,\n",
    "        the second determining the vertical size. Defaults to (10,7).\n",
    "    fontsize: int\n",
    "        Font size for axes labels. Defaults to 14.\n",
    "\n",
    "    Returns\n",
    "    -------\n",
    "    matplotlib.figure.Figure\n",
    "        The resulting confusion matrix figure\n",
    "    '''\n",
    "    df_cm = pd.DataFrame(\n",
    "        confusion_matrix, index=class_names, columns=class_names, \n",
    "    )\n",
    "    fig = plt.figure(figsize=figsize)\n",
    "    try:\n",
    "        heatmap = sns.heatmap(df_cm, annot=True, fmt=\"d\")\n",
    "    except ValueError:\n",
    "        raise ValueError(\"Confusion matrix values must be integers.\")\n",
    "\n",
    "    heatmap.yaxis.set_ticklabels(heatmap.yaxis.get_ticklabels(), rotation=0, ha='right', fontsize=fontsize)\n",
    "    heatmap.xaxis.set_ticklabels(heatmap.xaxis.get_ticklabels(), rotation=45, ha='right', fontsize=fontsize)\n",
    "    plt.ylabel('True label')\n",
    "    plt.xlabel('Predicted label')\n",
    "\n",
    "    \n",
    "    \n",
    "'''\n",
    "# 4. Create the 2D CNN model \n",
    "'''\n",
    "def get_2d_conv_model(n):\n",
    "    ''' Create 2D convolutional neural network'''\n",
    "    nclass = 14\n",
    "    inp = Input(shape=(n,216,1))  #2D matrix of 30 MFCC bands by 216 audio length.\n",
    "    x = Convolution2D(32, (5,5), strides=(1, 1), padding=\"same\")(inp)\n",
    "    x = BatchNormalization()(x)\n",
    "    x = Activation(\"relu\")(x)\n",
    "    x = AveragePooling2D()(x)\n",
    "    x = Dropout(rate=0.2)(x)\n",
    "    \n",
    "    x = Convolution2D(64, (5,5), strides=(1, 1), padding=\"same\")(x)\n",
    "    x = BatchNormalization()(x)\n",
    "    x = Activation(\"relu\")(x)\n",
    "    x = AveragePooling2D()(x)\n",
    "    x = Dropout(rate=0.3)(x)\n",
    "    \n",
    "    x = Convolution2D(64, (5,5), strides=(1, 1),  padding=\"same\")(x)\n",
    "    x = BatchNormalization()(x)\n",
    "    x = Activation(\"relu\")(x)\n",
    "    x = AveragePooling2D()(x)\n",
    "    x = Dropout(rate=0.4)(x)\n",
    "    \n",
    "    x = Convolution2D(64, (5,5), strides=(1, 1),  padding=\"same\")(x)\n",
    "    x = BatchNormalization()(x)\n",
    "    x = Activation(\"relu\")(x)\n",
    "    x = AveragePooling2D()(x)\n",
    "    x = Dropout(rate=0.5)(x)\n",
    "    \n",
    "    x = Flatten()(x)\n",
    "    x = Dense(128)(x)\n",
    "    x = Dropout(rate=0.2)(x)\n",
    "    x = BatchNormalization()(x)\n",
    "    x = Activation(\"relu\")(x)\n",
    "    x = Dropout(rate=0.2)(x)\n",
    "    \n",
    "    out = Dense(nclass, activation=softmax)(x)\n",
    "    model = models.Model(inputs=inp, outputs=out)\n",
    "    \n",
    "    opt = optimizers.Adam(lr=0.001, beta_1=0.9, beta_2=0.999, epsilon=1e-08, decay=0.0)\n",
    "    model.compile(optimizer=opt, loss=losses.categorical_crossentropy, metrics=['acc'])\n",
    "    return model\n",
    "\n",
    "\n",
    "\n",
    "'''\n",
    "# 5. Other functions \n",
    "'''\n",
    "class get_results:\n",
    "    '''\n",
    " \n",
    "    '''\n",
    "    \n",
    "    def __init__(self, model_history, model ,X_test, y_test, labels):\n",
    "        self.model_history = model_history\n",
    "        self.model = model\n",
    "        self.X_test = X_test\n",
    "        self.y_test = y_test             \n",
    "        self.labels = labels\n",
    "\n",
    "    def create_plot(self, model_history):\n",
    "        '''Check the logloss of both train and validation, make sure they are close and have plateau'''\n",
    "        plt.plot(model_history.history['loss'])\n",
    "        plt.plot(model_history.history['val_loss'])\n",
    "        plt.title('model loss')\n",
    "        plt.ylabel('loss')\n",
    "        plt.xlabel('epoch')\n",
    "        plt.legend(['train', 'test'], loc='upper left')\n",
    "        plt.show()\n",
    "\n",
    "    def create_results(self, model):\n",
    "        '''predict on test set and get accuracy results'''\n",
    "        opt = optimizers.Adam(0.001)\n",
    "        model.compile(loss='categorical_crossentropy', optimizer=opt, metrics=['accuracy'])\n",
    "        score = model.evaluate(X_test, y_test, verbose=0)\n",
    "        print(\"%s: %.2f%%\" % (model.metrics_names[1], score[1]*100))\n",
    "\n",
    "    def confusion_results(self, X_test, y_test, labels, model):\n",
    "        '''plot confusion matrix results'''\n",
    "        preds = model.predict(X_test, \n",
    "                                 batch_size=16, \n",
    "                                 verbose=2)\n",
    "        preds=preds.argmax(axis=1)\n",
    "        preds = preds.astype(int).flatten()\n",
    "        preds = (lb.inverse_transform((preds)))\n",
    "\n",
    "        actual = y_test.argmax(axis=1)\n",
    "        actual = actual.astype(int).flatten()\n",
    "        actual = (lb.inverse_transform((actual)))\n",
    "\n",
    "        classes = labels\n",
    "        classes.sort()    \n",
    "\n",
    "        c = confusion_matrix(actual, preds)\n",
    "        print_confusion_matrix(c, class_names = classes)\n",
    "    \n",
    "    def accuracy_results_gender(self, X_test, y_test, labels, model):\n",
    "        '''Print out the accuracy score and confusion matrix heat map of the Gender classification results'''\n",
    "    \n",
    "        preds = model.predict(X_test, \n",
    "                         batch_size=16, \n",
    "                         verbose=2)\n",
    "        preds=preds.argmax(axis=1)\n",
    "        preds = preds.astype(int).flatten()\n",
    "        preds = (lb.inverse_transform((preds)))\n",
    "\n",
    "        actual = y_test.argmax(axis=1)\n",
    "        actual = actual.astype(int).flatten()\n",
    "        actual = (lb.inverse_transform((actual)))\n",
    "        \n",
    "        # print(accuracy_score(actual, preds))\n",
    "        \n",
    "        actual = pd.DataFrame(actual).replace({'female_anger':'female'\n",
    "                   , 'female_disgust':'female'\n",
    "                   , 'female_fear':'female'\n",
    "                   , 'female_happiness':'female'\n",
    "                   , 'female_sad':'female'\n",
    "                   , 'female_surprise':'female'\n",
    "                   , 'female_neutral':'female'\n",
    "                   , 'male_anger':'male'\n",
    "                   , 'male_fear':'male'\n",
    "                   , 'male_happiness':'male'\n",
    "                   , 'male_sad':'male'\n",
    "                   , 'male_surprise':'male'\n",
    "                   , 'male_neutral':'male'\n",
    "                   , 'male_disgust':'male'\n",
    "                  })\n",
    "        preds = pd.DataFrame(preds).replace({'female_anger':'female'\n",
    "                   , 'female_disgust':'female'\n",
    "                   , 'female_fear':'female'\n",
    "                   , 'female_happiness':'female'\n",
    "                   , 'female_sad':'female'\n",
    "                   , 'female_surprise':'female'\n",
    "                   , 'female_neutral':'female'\n",
    "                   , 'male_anger':'male'\n",
    "                   , 'male_fear':'male'\n",
    "                   , 'male_happiness':'male'\n",
    "                   , 'male_sad':'male'\n",
    "                   , 'male_surprise':'male'\n",
    "                   , 'male_neutral':'male'\n",
    "                   , 'male_disgust':'male'\n",
    "                  })\n",
    "        classes = actual.loc[:,0].unique() \n",
    "        classes.sort()    \n",
    "\n",
    "        c = confusion_matrix(actual, preds)\n",
    "        print(accuracy_score(actual, preds))\n",
    "        print_confusion_matrix(c, class_names = classes)"
   ]
  },
  {
   "cell_type": "code",
   "execution_count": 7,
   "metadata": {},
   "outputs": [
    {
     "name": "stdout",
     "output_type": "stream",
     "text": [
      "              labels   source  \\\n",
      "3444    female_angry     TESS   \n",
      "2791  female_disgust     TESS   \n",
      "8268    male_disgust    CREMA   \n",
      "8213  female_neutral    CREMA   \n",
      "4115    female_happy     TESS   \n",
      "...              ...      ...   \n",
      "3233  female_neutral     TESS   \n",
      "7849    male_neutral    CREMA   \n",
      "5029    female_angry    CREMA   \n",
      "1336      male_happy  RAVDESS   \n",
      "9979       male_fear    CREMA   \n",
      "\n",
      "                                                   path  \n",
      "3444  C:/Users/Moritz/Desktop/Data/TESS/YAF_angry/YA...  \n",
      "2791  C:/Users/Moritz/Desktop/Data/TESS/OAF_disgust/...  \n",
      "8268  C:/Users/Moritz/Desktop/Data/CREMAD/AudioWAV/1...  \n",
      "8213  C:/Users/Moritz/Desktop/Data/CREMAD/AudioWAV/1...  \n",
      "4115  C:/Users/Moritz/Desktop/Data/TESS/YAF_happy/YA...  \n",
      "...                                                 ...  \n",
      "3233  C:/Users/Moritz/Desktop/Data/TESS/OAF_neutral/...  \n",
      "7849  C:/Users/Moritz/Desktop/Data/CREMAD/AudioWAV/1...  \n",
      "5029  C:/Users/Moritz/Desktop/Data/CREMAD/AudioWAV/1...  \n",
      "1336  C:/Users/Moritz/Desktop/Data/RAVDESS/Actor_15/...  \n",
      "9979  C:/Users/Moritz/Desktop/Data/CREMAD/AudioWAV/1...  \n",
      "\n",
      "[7297 rows x 3 columns]\n"
     ]
    }
   ],
   "source": [
    "print(train)"
   ]
  },
  {
   "cell_type": "code",
   "execution_count": 8,
   "metadata": {},
   "outputs": [
    {
     "name": "stderr",
     "output_type": "stream",
     "text": [
      "100%|██████████| 7297/7297 [03:53<00:00, 31.28it/s]\n"
     ]
    }
   ],
   "source": [
    "sampling_rate=44100\n",
    "audio_duration=2.5\n",
    "n_mfcc = 30\n",
    "mfcc2 = prepare_data(train, n = n_mfcc, aug = 1, mfcc = 1)"
   ]
  },
  {
   "cell_type": "code",
   "execution_count": 9,
   "metadata": {},
   "outputs": [
    {
     "name": "stderr",
     "output_type": "stream",
     "text": [
      "100%|██████████| 7297/7297 [17:00<00:00,  7.15it/s]\n"
     ]
    }
   ],
   "source": [
    "sampling_rate=44100\n",
    "audio_duration=2.5\n",
    "n_mfcc = 30\n",
    "mfcc3 = prepare_data(train, n = n_mfcc, aug = 2, mfcc = 1)"
   ]
  },
  {
   "cell_type": "code",
   "execution_count": 10,
   "metadata": {},
   "outputs": [
    {
     "name": "stderr",
     "output_type": "stream",
     "text": [
      "100%|██████████| 7297/7297 [02:32<00:00, 47.98it/s]\n"
     ]
    }
   ],
   "source": [
    "sampling_rate=44100\n",
    "audio_duration=2.5\n",
    "n_mfcc = 30\n",
    "mfcc = prepare_data(train, n = n_mfcc, aug = 0, mfcc = 1)"
   ]
  },
  {
   "cell_type": "code",
   "execution_count": 11,
   "metadata": {},
   "outputs": [
    {
     "name": "stderr",
     "output_type": "stream",
     "text": [
      "100%|██████████| 7297/7297 [02:31<00:00, 48.19it/s]\n"
     ]
    }
   ],
   "source": [
    "sampling_rate=44100\n",
    "audio_duration=2.5\n",
    "n_mfcc = 30\n",
    "mfcc4 = prepare_data(train, n = n_mfcc, aug = 3, mfcc = 1)"
   ]
  },
  {
   "cell_type": "code",
   "execution_count": 12,
   "metadata": {},
   "outputs": [
    {
     "name": "stderr",
     "output_type": "stream",
     "text": [
      "100%|██████████| 4865/4865 [02:11<00:00, 37.01it/s]\n"
     ]
    }
   ],
   "source": [
    "sampling_rate=44100\n",
    "audio_duration=2.5\n",
    "n_mfcc = 30\n",
    "mfcc_test = prepare_data(valtest, n = n_mfcc, aug = 0, mfcc = 1)"
   ]
  },
  {
   "cell_type": "code",
   "execution_count": 13,
   "metadata": {},
   "outputs": [
    {
     "name": "stdout",
     "output_type": "stream",
     "text": [
      "(4865, 30, 216, 1)\n"
     ]
    }
   ],
   "source": [
    "print(mfcc_test.shape)"
   ]
  },
  {
   "cell_type": "code",
   "execution_count": 14,
   "metadata": {},
   "outputs": [],
   "source": [
    "# model.evaluate: https://stackoverflow.com/questions/53971352/how-can-i-run-test-data-against-my-keras-trained-model"
   ]
  },
  {
   "cell_type": "code",
   "execution_count": 15,
   "metadata": {},
   "outputs": [],
   "source": [
    "# Split between train and test \n",
    "X_1, X_non1, y_1, y_non1 = train_test_split(mfcc, train.labels, test_size=0.000000001, shuffle = True, random_state=42)"
   ]
  },
  {
   "cell_type": "code",
   "execution_count": 16,
   "metadata": {},
   "outputs": [],
   "source": [
    "X_2, X_non2, y_2, y_non2 = train_test_split(mfcc2, train.labels, test_size=0.000000001, shuffle = True, random_state=42)"
   ]
  },
  {
   "cell_type": "code",
   "execution_count": 17,
   "metadata": {},
   "outputs": [],
   "source": [
    "X_3, X_non3, y_3, y_non3 = train_test_split(mfcc3, train.labels, test_size=0.000000001, shuffle = True, random_state=42)"
   ]
  },
  {
   "cell_type": "code",
   "execution_count": 18,
   "metadata": {},
   "outputs": [],
   "source": [
    "X_4, X_non4, y_4, y_non4 = train_test_split(mfcc4, train.labels, test_size=0.000000001, shuffle = True, random_state=42)"
   ]
  },
  {
   "cell_type": "code",
   "execution_count": 19,
   "metadata": {},
   "outputs": [],
   "source": [
    "X_train = numpy.concatenate([X_1,X_2,X_3])\n",
    "y_train = numpy.concatenate([y_1,y_2,y_3])"
   ]
  },
  {
   "cell_type": "code",
   "execution_count": 20,
   "metadata": {},
   "outputs": [],
   "source": [
    "\n",
    "X_val, X_test, y_val, y_test = train_test_split(mfcc_test, valtest.labels, test_size=0.5, random_state = None, shuffle = False, stratify = None) "
   ]
  },
  {
   "cell_type": "code",
   "execution_count": 21,
   "metadata": {},
   "outputs": [
    {
     "name": "stdout",
     "output_type": "stream",
     "text": [
      "(21888, 30, 216, 1)\n",
      "(21888,)\n",
      "(2432, 30, 216, 1)\n",
      "(2432,)\n"
     ]
    }
   ],
   "source": [
    "print(X_train.shape)\n",
    "print(y_train.shape)\n",
    "print(X_val.shape)\n",
    "print(y_val.shape)"
   ]
  },
  {
   "cell_type": "code",
   "execution_count": 22,
   "metadata": {},
   "outputs": [
    {
     "name": "stdout",
     "output_type": "stream",
     "text": [
      "3990       female_happy\n",
      "3870        female_fear\n",
      "3845        female_fear\n",
      "812        female_angry\n",
      "6380         female_sad\n",
      "              ...      \n",
      "6656         female_sad\n",
      "11142      female_angry\n",
      "2552       female_angry\n",
      "10063      male_neutral\n",
      "11934    female_neutral\n",
      "Name: labels, Length: 2432, dtype: object\n"
     ]
    }
   ],
   "source": [
    "print(y_val)"
   ]
  },
  {
   "cell_type": "code",
   "execution_count": 23,
   "metadata": {},
   "outputs": [],
   "source": [
    "# one hot encode the target \n",
    "lb = LabelEncoder()\n",
    "y_train = np_utils.to_categorical(lb.fit_transform(y_train))\n",
    "y_test = np_utils.to_categorical(lb.fit_transform(y_test))\n",
    "y_val = np_utils.to_categorical(lb.fit_transform(y_val))\n",
    "\n",
    "# Normalization as per the standard NN process\n",
    "mean = np.mean(X_train, axis=0)\n",
    "std = np.std(X_train, axis=0)\n",
    "\n",
    "X_train = (X_train - mean)/std\n",
    "X_test = (X_test - mean)/std\n",
    "X_val = (X_val - mean)/std"
   ]
  },
  {
   "cell_type": "code",
   "execution_count": 24,
   "metadata": {},
   "outputs": [
    {
     "name": "stdout",
     "output_type": "stream",
     "text": [
      "(21888, 30, 216, 1)\n",
      "(2433, 14)\n"
     ]
    }
   ],
   "source": [
    "print(X_train.shape)\n",
    "print(y_test.shape)"
   ]
  },
  {
   "cell_type": "code",
   "execution_count": 25,
   "metadata": {},
   "outputs": [
    {
     "name": "stdout",
     "output_type": "stream",
     "text": [
      "Epoch 1/62\n",
      "1368/1368 - 203s - loss: 2.0065 - acc: 0.3119 - val_loss: 1.8426 - val_acc: 0.3310\n",
      "Epoch 2/62\n",
      "1368/1368 - 202s - loss: 1.5461 - acc: 0.4534 - val_loss: 1.2682 - val_acc: 0.5502\n",
      "Epoch 3/62\n",
      "1368/1368 - 202s - loss: 1.3932 - acc: 0.4992 - val_loss: 1.2908 - val_acc: 0.5337\n",
      "Epoch 4/62\n",
      "1368/1368 - 200s - loss: 1.3004 - acc: 0.5290 - val_loss: 1.0774 - val_acc: 0.5962\n",
      "Epoch 5/62\n",
      "1368/1368 - 200s - loss: 1.2439 - acc: 0.5493 - val_loss: 1.0623 - val_acc: 0.6151\n",
      "Epoch 6/62\n",
      "1368/1368 - 200s - loss: 1.1920 - acc: 0.5658 - val_loss: 1.0363 - val_acc: 0.6053\n",
      "Epoch 7/62\n",
      "1368/1368 - 200s - loss: 1.1444 - acc: 0.5836 - val_loss: 1.0083 - val_acc: 0.6365\n",
      "Epoch 8/62\n",
      "1368/1368 - 200s - loss: 1.1060 - acc: 0.6009 - val_loss: 0.9557 - val_acc: 0.6382\n",
      "Epoch 9/62\n",
      "1368/1368 - 199s - loss: 1.0868 - acc: 0.6060 - val_loss: 0.9979 - val_acc: 0.6197\n",
      "Epoch 10/62\n",
      "1368/1368 - 199s - loss: 1.0558 - acc: 0.6134 - val_loss: 0.9807 - val_acc: 0.6345\n",
      "Epoch 11/62\n",
      "1368/1368 - 198s - loss: 1.0445 - acc: 0.6203 - val_loss: 0.9234 - val_acc: 0.6579\n",
      "Epoch 12/62\n",
      "1368/1368 - 198s - loss: 1.0226 - acc: 0.6279 - val_loss: 0.9302 - val_acc: 0.6493\n",
      "Epoch 13/62\n",
      "1368/1368 - 198s - loss: 1.0030 - acc: 0.6383 - val_loss: 0.9162 - val_acc: 0.6591\n",
      "Epoch 14/62\n",
      "1368/1368 - 198s - loss: 0.9791 - acc: 0.6440 - val_loss: 0.9270 - val_acc: 0.6554\n",
      "Epoch 15/62\n",
      "1368/1368 - 198s - loss: 0.9607 - acc: 0.6509 - val_loss: 0.9221 - val_acc: 0.6600\n",
      "Epoch 16/62\n",
      "1368/1368 - 198s - loss: 0.9535 - acc: 0.6528 - val_loss: 0.9882 - val_acc: 0.6168\n",
      "Epoch 17/62\n",
      "1368/1368 - 198s - loss: 0.9315 - acc: 0.6609 - val_loss: 0.8971 - val_acc: 0.6534\n",
      "Epoch 18/62\n",
      "1368/1368 - 199s - loss: 0.9211 - acc: 0.6648 - val_loss: 0.8741 - val_acc: 0.6813\n",
      "Epoch 19/62\n",
      "1368/1368 - 199s - loss: 0.9047 - acc: 0.6706 - val_loss: 0.8746 - val_acc: 0.6706\n",
      "Epoch 20/62\n",
      "1368/1368 - 198s - loss: 0.8864 - acc: 0.6735 - val_loss: 0.8600 - val_acc: 0.6772\n",
      "Epoch 21/62\n",
      "1368/1368 - 198s - loss: 0.8940 - acc: 0.6723 - val_loss: 0.8623 - val_acc: 0.6801\n",
      "Epoch 22/62\n",
      "1368/1368 - 198s - loss: 0.8772 - acc: 0.6833 - val_loss: 0.8606 - val_acc: 0.6830\n",
      "Epoch 23/62\n",
      "1368/1368 - 199s - loss: 0.8652 - acc: 0.6907 - val_loss: 0.8276 - val_acc: 0.6978\n",
      "Epoch 24/62\n",
      "1368/1368 - 199s - loss: 0.8571 - acc: 0.6870 - val_loss: 0.8586 - val_acc: 0.6822\n",
      "Epoch 25/62\n",
      "1368/1368 - 199s - loss: 0.8547 - acc: 0.6892 - val_loss: 0.8331 - val_acc: 0.6974\n",
      "Epoch 26/62\n",
      "1368/1368 - 199s - loss: 0.8429 - acc: 0.6918 - val_loss: 0.8477 - val_acc: 0.6900\n",
      "Epoch 27/62\n",
      "1368/1368 - 198s - loss: 0.8300 - acc: 0.7003 - val_loss: 0.8246 - val_acc: 0.6953\n",
      "Epoch 28/62\n",
      "1368/1368 - 199s - loss: 0.8211 - acc: 0.7033 - val_loss: 0.8679 - val_acc: 0.6785\n",
      "Epoch 29/62\n",
      "1368/1368 - 199s - loss: 0.8207 - acc: 0.7028 - val_loss: 0.8341 - val_acc: 0.6941\n",
      "Epoch 30/62\n",
      "1368/1368 - 199s - loss: 0.8083 - acc: 0.7058 - val_loss: 0.8400 - val_acc: 0.6900\n",
      "Epoch 31/62\n",
      "1368/1368 - 198s - loss: 0.8002 - acc: 0.7113 - val_loss: 0.8295 - val_acc: 0.6998\n",
      "Epoch 32/62\n",
      "1368/1368 - 199s - loss: 0.7977 - acc: 0.7098 - val_loss: 0.8300 - val_acc: 0.6891\n",
      "Epoch 33/62\n",
      "1368/1368 - 199s - loss: 0.7988 - acc: 0.7103 - val_loss: 0.8133 - val_acc: 0.6961\n",
      "Epoch 34/62\n",
      "1368/1368 - 199s - loss: 0.7780 - acc: 0.7174 - val_loss: 0.8457 - val_acc: 0.6986\n",
      "Epoch 35/62\n",
      "1368/1368 - 199s - loss: 0.7825 - acc: 0.7184 - val_loss: 0.8178 - val_acc: 0.7002\n",
      "Epoch 36/62\n",
      "1368/1368 - 198s - loss: 0.7766 - acc: 0.7175 - val_loss: 0.8167 - val_acc: 0.6961\n",
      "Epoch 37/62\n",
      "1368/1368 - 199s - loss: 0.7730 - acc: 0.7174 - val_loss: 0.8278 - val_acc: 0.6974\n",
      "Epoch 38/62\n",
      "1368/1368 - 198s - loss: 0.7735 - acc: 0.7211 - val_loss: 0.8252 - val_acc: 0.6941\n",
      "Epoch 39/62\n",
      "1368/1368 - 198s - loss: 0.7566 - acc: 0.7265 - val_loss: 0.8094 - val_acc: 0.7023\n",
      "Epoch 40/62\n",
      "1368/1368 - 198s - loss: 0.7574 - acc: 0.7264 - val_loss: 0.8483 - val_acc: 0.6953\n",
      "Epoch 41/62\n",
      "1368/1368 - 198s - loss: 0.7604 - acc: 0.7266 - val_loss: 0.8219 - val_acc: 0.7039\n",
      "Epoch 42/62\n",
      "1368/1368 - 199s - loss: 0.7445 - acc: 0.7312 - val_loss: 0.8113 - val_acc: 0.7048\n",
      "Epoch 43/62\n",
      "1368/1368 - 199s - loss: 0.7325 - acc: 0.7383 - val_loss: 0.8078 - val_acc: 0.7060\n",
      "Epoch 44/62\n",
      "1368/1368 - 198s - loss: 0.7388 - acc: 0.7340 - val_loss: 0.7973 - val_acc: 0.7085\n",
      "Epoch 45/62\n",
      "1368/1368 - 198s - loss: 0.7331 - acc: 0.7331 - val_loss: 0.8170 - val_acc: 0.6974\n",
      "Epoch 46/62\n",
      "1368/1368 - 199s - loss: 0.7328 - acc: 0.7358 - val_loss: 0.8103 - val_acc: 0.6961\n",
      "Epoch 47/62\n",
      "1368/1368 - 199s - loss: 0.7233 - acc: 0.7393 - val_loss: 0.8018 - val_acc: 0.7035\n",
      "Epoch 48/62\n",
      "1368/1368 - 198s - loss: 0.7190 - acc: 0.7381 - val_loss: 0.7860 - val_acc: 0.7052\n",
      "Epoch 49/62\n",
      "1368/1368 - 201s - loss: 0.7148 - acc: 0.7408 - val_loss: 0.7850 - val_acc: 0.7179\n",
      "Epoch 50/62\n",
      "1368/1368 - 199s - loss: 0.7208 - acc: 0.7392 - val_loss: 0.8065 - val_acc: 0.7064\n",
      "Epoch 51/62\n",
      "1368/1368 - 198s - loss: 0.7129 - acc: 0.7385 - val_loss: 0.8023 - val_acc: 0.7027\n",
      "Epoch 52/62\n",
      "1368/1368 - 198s - loss: 0.7125 - acc: 0.7413 - val_loss: 0.7982 - val_acc: 0.7089\n",
      "Epoch 53/62\n",
      "1368/1368 - 199s - loss: 0.7080 - acc: 0.7473 - val_loss: 0.8018 - val_acc: 0.7044\n",
      "Epoch 54/62\n",
      "1368/1368 - 199s - loss: 0.6964 - acc: 0.7471 - val_loss: 0.8177 - val_acc: 0.7089\n",
      "Epoch 55/62\n",
      "1368/1368 - 198s - loss: 0.6913 - acc: 0.7526 - val_loss: 0.7991 - val_acc: 0.7089\n",
      "Epoch 56/62\n",
      "1368/1368 - 199s - loss: 0.7018 - acc: 0.7462 - val_loss: 0.8112 - val_acc: 0.7093\n",
      "Epoch 57/62\n",
      "1368/1368 - 199s - loss: 0.6897 - acc: 0.7505 - val_loss: 0.8259 - val_acc: 0.6933\n",
      "Epoch 58/62\n",
      "1368/1368 - 199s - loss: 0.6764 - acc: 0.7548 - val_loss: 0.7833 - val_acc: 0.7138\n",
      "Epoch 59/62\n",
      "1368/1368 - 199s - loss: 0.6790 - acc: 0.7503 - val_loss: 0.8048 - val_acc: 0.7060\n",
      "Epoch 60/62\n",
      "1368/1368 - 199s - loss: 0.6813 - acc: 0.7542 - val_loss: 0.7808 - val_acc: 0.7155\n",
      "Epoch 61/62\n",
      "1368/1368 - 198s - loss: 0.6751 - acc: 0.7568 - val_loss: 0.8264 - val_acc: 0.7035\n",
      "Epoch 62/62\n",
      "1368/1368 - 199s - loss: 0.6871 - acc: 0.7522 - val_loss: 0.7708 - val_acc: 0.7155\n"
     ]
    }
   ],
   "source": [
    "# Build CNN model \n",
    "model = get_2d_conv_model(n=n_mfcc)\n",
    "model_history = model.fit(X_train, y_train, validation_data=(X_val, y_val), \n",
    "                    batch_size=16, verbose = 2, epochs=62)"
   ]
  },
  {
   "cell_type": "code",
   "execution_count": 26,
   "metadata": {},
   "outputs": [
    {
     "name": "stdout",
     "output_type": "stream",
     "text": [
      "153/153 [==============================] - 4s 25ms/step - loss: 0.7841 - acc: 0.7115\n"
     ]
    },
    {
     "data": {
      "text/plain": [
       "[0.7841062545776367, 0.7114673256874084]"
      ]
     },
     "execution_count": 26,
     "metadata": {},
     "output_type": "execute_result"
    }
   ],
   "source": [
    "model.evaluate(X_test, y_test, batch_size=16)"
   ]
  },
  {
   "cell_type": "code",
   "execution_count": 27,
   "metadata": {},
   "outputs": [],
   "source": [
    "#15:04 - check model.summary() next to see how many parameters"
   ]
  },
  {
   "cell_type": "code",
   "execution_count": 28,
   "metadata": {},
   "outputs": [
    {
     "data": {
      "text/html": [
       "<div>\n",
       "<style scoped>\n",
       "    .dataframe tbody tr th:only-of-type {\n",
       "        vertical-align: middle;\n",
       "    }\n",
       "\n",
       "    .dataframe tbody tr th {\n",
       "        vertical-align: top;\n",
       "    }\n",
       "\n",
       "    .dataframe thead th {\n",
       "        text-align: right;\n",
       "    }\n",
       "</style>\n",
       "<table border=\"1\" class=\"dataframe\">\n",
       "  <thead>\n",
       "    <tr style=\"text-align: right;\">\n",
       "      <th></th>\n",
       "      <th>labels</th>\n",
       "      <th>source</th>\n",
       "      <th>path</th>\n",
       "    </tr>\n",
       "  </thead>\n",
       "  <tbody>\n",
       "    <tr>\n",
       "      <th>3870</th>\n",
       "      <td>female_fear</td>\n",
       "      <td>TESS</td>\n",
       "      <td>C:/Users/Moritz/Desktop/Data/TESS/YAF_fear/YAF...</td>\n",
       "    </tr>\n",
       "    <tr>\n",
       "      <th>3845</th>\n",
       "      <td>female_fear</td>\n",
       "      <td>TESS</td>\n",
       "      <td>C:/Users/Moritz/Desktop/Data/TESS/YAF_fear/YAF...</td>\n",
       "    </tr>\n",
       "    <tr>\n",
       "      <th>812</th>\n",
       "      <td>female_angry</td>\n",
       "      <td>RAVDESS</td>\n",
       "      <td>C:/Users/Moritz/Desktop/Data/RAVDESS/Actor_06/...</td>\n",
       "    </tr>\n",
       "    <tr>\n",
       "      <th>6380</th>\n",
       "      <td>female_sad</td>\n",
       "      <td>CREMA</td>\n",
       "      <td>C:/Users/Moritz/Desktop/Data/CREMAD/AudioWAV/1...</td>\n",
       "    </tr>\n",
       "    <tr>\n",
       "      <th>3213</th>\n",
       "      <td>female_neutral</td>\n",
       "      <td>TESS</td>\n",
       "      <td>C:/Users/Moritz/Desktop/Data/TESS/OAF_neutral/...</td>\n",
       "    </tr>\n",
       "    <tr>\n",
       "      <th>2781</th>\n",
       "      <td>female_disgust</td>\n",
       "      <td>TESS</td>\n",
       "      <td>C:/Users/Moritz/Desktop/Data/TESS/OAF_disgust/...</td>\n",
       "    </tr>\n",
       "    <tr>\n",
       "      <th>11122</th>\n",
       "      <td>female_neutral</td>\n",
       "      <td>CREMA</td>\n",
       "      <td>C:/Users/Moritz/Desktop/Data/CREMAD/AudioWAV/1...</td>\n",
       "    </tr>\n",
       "    <tr>\n",
       "      <th>4138</th>\n",
       "      <td>female_neutral</td>\n",
       "      <td>TESS</td>\n",
       "      <td>C:/Users/Moritz/Desktop/Data/TESS/YAF_neutral/...</td>\n",
       "    </tr>\n",
       "    <tr>\n",
       "      <th>3452</th>\n",
       "      <td>female_angry</td>\n",
       "      <td>TESS</td>\n",
       "      <td>C:/Users/Moritz/Desktop/Data/TESS/YAF_angry/YA...</td>\n",
       "    </tr>\n",
       "  </tbody>\n",
       "</table>\n",
       "</div>"
      ],
      "text/plain": [
       "               labels   source  \\\n",
       "3870      female_fear     TESS   \n",
       "3845      female_fear     TESS   \n",
       "812      female_angry  RAVDESS   \n",
       "6380       female_sad    CREMA   \n",
       "3213   female_neutral     TESS   \n",
       "2781   female_disgust     TESS   \n",
       "11122  female_neutral    CREMA   \n",
       "4138   female_neutral     TESS   \n",
       "3452     female_angry     TESS   \n",
       "\n",
       "                                                    path  \n",
       "3870   C:/Users/Moritz/Desktop/Data/TESS/YAF_fear/YAF...  \n",
       "3845   C:/Users/Moritz/Desktop/Data/TESS/YAF_fear/YAF...  \n",
       "812    C:/Users/Moritz/Desktop/Data/RAVDESS/Actor_06/...  \n",
       "6380   C:/Users/Moritz/Desktop/Data/CREMAD/AudioWAV/1...  \n",
       "3213   C:/Users/Moritz/Desktop/Data/TESS/OAF_neutral/...  \n",
       "2781   C:/Users/Moritz/Desktop/Data/TESS/OAF_disgust/...  \n",
       "11122  C:/Users/Moritz/Desktop/Data/CREMAD/AudioWAV/1...  \n",
       "4138   C:/Users/Moritz/Desktop/Data/TESS/YAF_neutral/...  \n",
       "3452   C:/Users/Moritz/Desktop/Data/TESS/YAF_angry/YA...  "
      ]
     },
     "execution_count": 28,
     "metadata": {},
     "output_type": "execute_result"
    }
   ],
   "source": [
    "valtest[1:10]"
   ]
  },
  {
   "cell_type": "code",
   "execution_count": 29,
   "metadata": {},
   "outputs": [
    {
     "data": {
      "text/html": [
       "<div>\n",
       "<style scoped>\n",
       "    .dataframe tbody tr th:only-of-type {\n",
       "        vertical-align: middle;\n",
       "    }\n",
       "\n",
       "    .dataframe tbody tr th {\n",
       "        vertical-align: top;\n",
       "    }\n",
       "\n",
       "    .dataframe thead th {\n",
       "        text-align: right;\n",
       "    }\n",
       "</style>\n",
       "<table border=\"1\" class=\"dataframe\">\n",
       "  <thead>\n",
       "    <tr style=\"text-align: right;\">\n",
       "      <th></th>\n",
       "      <th>labels</th>\n",
       "      <th>source</th>\n",
       "      <th>path</th>\n",
       "    </tr>\n",
       "  </thead>\n",
       "  <tbody>\n",
       "    <tr>\n",
       "      <th>11706</th>\n",
       "      <td>male_fear</td>\n",
       "      <td>CREMA</td>\n",
       "      <td>C:/Users/Moritz/Desktop/Data/CREMAD/AudioWAV/1...</td>\n",
       "    </tr>\n",
       "    <tr>\n",
       "      <th>9673</th>\n",
       "      <td>female_angry</td>\n",
       "      <td>CREMA</td>\n",
       "      <td>C:/Users/Moritz/Desktop/Data/CREMAD/AudioWAV/1...</td>\n",
       "    </tr>\n",
       "    <tr>\n",
       "      <th>9272</th>\n",
       "      <td>female_happy</td>\n",
       "      <td>CREMA</td>\n",
       "      <td>C:/Users/Moritz/Desktop/Data/CREMAD/AudioWAV/1...</td>\n",
       "    </tr>\n",
       "    <tr>\n",
       "      <th>1861</th>\n",
       "      <td>female_neutral</td>\n",
       "      <td>RAVDESS</td>\n",
       "      <td>C:/Users/Moritz/Desktop/Data/RAVDESS/Actor_24/...</td>\n",
       "    </tr>\n",
       "    <tr>\n",
       "      <th>10222</th>\n",
       "      <td>male_sad</td>\n",
       "      <td>CREMA</td>\n",
       "      <td>C:/Users/Moritz/Desktop/Data/CREMAD/AudioWAV/1...</td>\n",
       "    </tr>\n",
       "    <tr>\n",
       "      <th>11034</th>\n",
       "      <td>female_sad</td>\n",
       "      <td>CREMA</td>\n",
       "      <td>C:/Users/Moritz/Desktop/Data/CREMAD/AudioWAV/1...</td>\n",
       "    </tr>\n",
       "    <tr>\n",
       "      <th>10854</th>\n",
       "      <td>female_happy</td>\n",
       "      <td>CREMA</td>\n",
       "      <td>C:/Users/Moritz/Desktop/Data/CREMAD/AudioWAV/1...</td>\n",
       "    </tr>\n",
       "    <tr>\n",
       "      <th>3816</th>\n",
       "      <td>female_fear</td>\n",
       "      <td>TESS</td>\n",
       "      <td>C:/Users/Moritz/Desktop/Data/TESS/YAF_fear/YAF...</td>\n",
       "    </tr>\n",
       "    <tr>\n",
       "      <th>1358</th>\n",
       "      <td>male_fear</td>\n",
       "      <td>RAVDESS</td>\n",
       "      <td>C:/Users/Moritz/Desktop/Data/RAVDESS/Actor_15/...</td>\n",
       "    </tr>\n",
       "    <tr>\n",
       "      <th>8678</th>\n",
       "      <td>female_disgust</td>\n",
       "      <td>CREMA</td>\n",
       "      <td>C:/Users/Moritz/Desktop/Data/CREMAD/AudioWAV/1...</td>\n",
       "    </tr>\n",
       "  </tbody>\n",
       "</table>\n",
       "</div>"
      ],
      "text/plain": [
       "               labels   source  \\\n",
       "11706       male_fear    CREMA   \n",
       "9673     female_angry    CREMA   \n",
       "9272     female_happy    CREMA   \n",
       "1861   female_neutral  RAVDESS   \n",
       "10222        male_sad    CREMA   \n",
       "11034      female_sad    CREMA   \n",
       "10854    female_happy    CREMA   \n",
       "3816      female_fear     TESS   \n",
       "1358        male_fear  RAVDESS   \n",
       "8678   female_disgust    CREMA   \n",
       "\n",
       "                                                    path  \n",
       "11706  C:/Users/Moritz/Desktop/Data/CREMAD/AudioWAV/1...  \n",
       "9673   C:/Users/Moritz/Desktop/Data/CREMAD/AudioWAV/1...  \n",
       "9272   C:/Users/Moritz/Desktop/Data/CREMAD/AudioWAV/1...  \n",
       "1861   C:/Users/Moritz/Desktop/Data/RAVDESS/Actor_24/...  \n",
       "10222  C:/Users/Moritz/Desktop/Data/CREMAD/AudioWAV/1...  \n",
       "11034  C:/Users/Moritz/Desktop/Data/CREMAD/AudioWAV/1...  \n",
       "10854  C:/Users/Moritz/Desktop/Data/CREMAD/AudioWAV/1...  \n",
       "3816   C:/Users/Moritz/Desktop/Data/TESS/YAF_fear/YAF...  \n",
       "1358   C:/Users/Moritz/Desktop/Data/RAVDESS/Actor_15/...  \n",
       "8678   C:/Users/Moritz/Desktop/Data/CREMAD/AudioWAV/1...  "
      ]
     },
     "execution_count": 29,
     "metadata": {},
     "output_type": "execute_result"
    }
   ],
   "source": [
    "valtest[2434:2444]"
   ]
  },
  {
   "cell_type": "code",
   "execution_count": 30,
   "metadata": {},
   "outputs": [
    {
     "data": {
      "text/plain": [
       "array([[0., 0., 1., 0., 0., 0., 0., 0., 0., 0., 0., 0., 0., 0.],\n",
       "       [0., 0., 1., 0., 0., 0., 0., 0., 0., 0., 0., 0., 0., 0.],\n",
       "       [1., 0., 0., 0., 0., 0., 0., 0., 0., 0., 0., 0., 0., 0.],\n",
       "       [0., 0., 0., 0., 0., 1., 0., 0., 0., 0., 0., 0., 0., 0.],\n",
       "       [0., 0., 0., 0., 1., 0., 0., 0., 0., 0., 0., 0., 0., 0.],\n",
       "       [0., 1., 0., 0., 0., 0., 0., 0., 0., 0., 0., 0., 0., 0.],\n",
       "       [0., 0., 0., 0., 1., 0., 0., 0., 0., 0., 0., 0., 0., 0.],\n",
       "       [0., 0., 0., 0., 1., 0., 0., 0., 0., 0., 0., 0., 0., 0.],\n",
       "       [1., 0., 0., 0., 0., 0., 0., 0., 0., 0., 0., 0., 0., 0.]],\n",
       "      dtype=float32)"
      ]
     },
     "execution_count": 30,
     "metadata": {},
     "output_type": "execute_result"
    }
   ],
   "source": [
    "y_val[1:10]"
   ]
  },
  {
   "cell_type": "code",
   "execution_count": 31,
   "metadata": {},
   "outputs": [],
   "source": [
    "#5094, 7249"
   ]
  },
  {
   "cell_type": "code",
   "execution_count": 32,
   "metadata": {},
   "outputs": [
    {
     "data": {
      "image/png": "[encoded data removed]",
      "text/plain": [
       "<Figure size 432x288 with 1 Axes>"
      ]
     },
     "metadata": {
      "needs_background": "light"
     },
     "output_type": "display_data"
    },
    {
     "name": "stdout",
     "output_type": "stream",
     "text": [
      "accuracy: 71.15%\n",
      "153/153 - 4s\n"
     ]
    },
    {
     "data": {
      "image/png": "[encoded data removed]",
      "text/plain": [
       "<Figure size 720x504 with 2 Axes>"
      ]
     },
     "metadata": {
      "needs_background": "light"
     },
     "output_type": "display_data"
    }
   ],
   "source": [
    "results = get_results(model_history,model,X_test,y_test, dat.labels.unique())\n",
    "results.create_plot(model_history)\n",
    "results.create_results(model)\n",
    "results.confusion_results(X_test, y_test, dat.labels.unique(), model)"
   ]
  },
  {
   "cell_type": "code",
   "execution_count": 33,
   "metadata": {},
   "outputs": [
    {
     "name": "stdout",
     "output_type": "stream",
     "text": [
      "Save model and weights at C:/Users/Moritz/Desktop/Data/SER_trolol.h5 \n"
     ]
    }
   ],
   "source": [
    "# Save model and weights\n",
    "model_name = 'SER_trolol.h5'\n",
    "save_dir = os.path.join(os.getcwd(), 'C:/Users/Moritz/Desktop/Data/')\n",
    "\n",
    "if not os.path.isdir(save_dir):\n",
    "    os.makedirs(save_dir)\n",
    "model_path = os.path.join(save_dir, model_name)\n",
    "model.save(model_path)\n",
    "print('Save model and weights at %s ' % model_path)\n",
    "\n",
    "# Save the model to disk\n",
    "model_json = model.to_json()\n",
    "with open(\"model_json.json\", \"w\") as json_file:\n",
    "    json_file.write(model_json)"
   ]
  },
  {
   "cell_type": "code",
   "execution_count": 77,
   "metadata": {},
   "outputs": [
    {
     "name": "stdout",
     "output_type": "stream",
     "text": [
      "Loaded model from disk\n"
     ]
    }
   ],
   "source": [
    "# loading json and model architecture \n",
    "json_file = open('model_json.json', 'r')\n",
    "loaded_model_json = json_file.read()\n",
    "json_file.close()\n",
    "loaded_model = model_from_json(loaded_model_json)\n",
    "\n",
    "# load weights into new model\n",
    "loaded_model.load_weights(\"C:/Users/Moritz/Desktop/Data/SER_trolol.h5\")\n",
    "print(\"Loaded model from disk\")\n",
    " \n"
   ]
  },
  {
   "cell_type": "code",
   "execution_count": 78,
   "metadata": {},
   "outputs": [
    {
     "name": "stdout",
     "output_type": "stream",
     "text": [
      "Model: \"functional_1\"\n",
      "_________________________________________________________________\n",
      "Layer (type)                 Output Shape              Param #   \n",
      "=================================================================\n",
      "input_1 (InputLayer)         [(None, 30, 216, 1)]      0         \n",
      "_________________________________________________________________\n",
      "conv2d (Conv2D)              (None, 30, 216, 32)       832       \n",
      "_________________________________________________________________\n",
      "batch_normalization (BatchNo (None, 30, 216, 32)       128       \n",
      "_________________________________________________________________\n",
      "activation (Activation)      (None, 30, 216, 32)       0         \n",
      "_________________________________________________________________\n",
      "average_pooling2d (AveragePo (None, 15, 108, 32)       0         \n",
      "_________________________________________________________________\n",
      "dropout (Dropout)            (None, 15, 108, 32)       0         \n",
      "_________________________________________________________________\n",
      "conv2d_1 (Conv2D)            (None, 15, 108, 64)       51264     \n",
      "_________________________________________________________________\n",
      "batch_normalization_1 (Batch (None, 15, 108, 64)       256       \n",
      "_________________________________________________________________\n",
      "activation_1 (Activation)    (None, 15, 108, 64)       0         \n",
      "_________________________________________________________________\n",
      "average_pooling2d_1 (Average (None, 7, 54, 64)         0         \n",
      "_________________________________________________________________\n",
      "dropout_1 (Dropout)          (None, 7, 54, 64)         0         \n",
      "_________________________________________________________________\n",
      "conv2d_2 (Conv2D)            (None, 7, 54, 64)         102464    \n",
      "_________________________________________________________________\n",
      "batch_normalization_2 (Batch (None, 7, 54, 64)         256       \n",
      "_________________________________________________________________\n",
      "activation_2 (Activation)    (None, 7, 54, 64)         0         \n",
      "_________________________________________________________________\n",
      "average_pooling2d_2 (Average (None, 3, 27, 64)         0         \n",
      "_________________________________________________________________\n",
      "dropout_2 (Dropout)          (None, 3, 27, 64)         0         \n",
      "_________________________________________________________________\n",
      "conv2d_3 (Conv2D)            (None, 3, 27, 64)         102464    \n",
      "_________________________________________________________________\n",
      "batch_normalization_3 (Batch (None, 3, 27, 64)         256       \n",
      "_________________________________________________________________\n",
      "activation_3 (Activation)    (None, 3, 27, 64)         0         \n",
      "_________________________________________________________________\n",
      "average_pooling2d_3 (Average (None, 1, 13, 64)         0         \n",
      "_________________________________________________________________\n",
      "dropout_3 (Dropout)          (None, 1, 13, 64)         0         \n",
      "_________________________________________________________________\n",
      "flatten (Flatten)            (None, 832)               0         \n",
      "_________________________________________________________________\n",
      "dense (Dense)                (None, 128)               106624    \n",
      "_________________________________________________________________\n",
      "dropout_4 (Dropout)          (None, 128)               0         \n",
      "_________________________________________________________________\n",
      "batch_normalization_4 (Batch (None, 128)               512       \n",
      "_________________________________________________________________\n",
      "activation_4 (Activation)    (None, 128)               0         \n",
      "_________________________________________________________________\n",
      "dropout_5 (Dropout)          (None, 128)               0         \n",
      "_________________________________________________________________\n",
      "dense_1 (Dense)              (None, 14)                1806      \n",
      "=================================================================\n",
      "Total params: 366,862\n",
      "Trainable params: 366,158\n",
      "Non-trainable params: 704\n",
      "_________________________________________________________________\n"
     ]
    }
   ],
   "source": [
    "model.summary()"
   ]
  },
  {
   "cell_type": "code",
   "execution_count": 79,
   "metadata": {},
   "outputs": [
    {
     "name": "stdout",
     "output_type": "stream",
     "text": [
      "accuracy: 71.15%\n"
     ]
    }
   ],
   "source": [
    "# Keras optimiser\n",
    "opt = keras.optimizers.RMSprop(lr=0.00001, decay=1e-6)\n",
    "loaded_model.compile(loss='categorical_crossentropy', optimizer=opt, metrics=['accuracy'])\n",
    "score = loaded_model.evaluate(X_test, y_test, verbose=0)\n",
    "print(\"%s: %.2f%%\" % (loaded_model.metrics_names[1], score[1]*100))\n"
   ]
  },
  {
   "cell_type": "code",
   "execution_count": 80,
   "metadata": {},
   "outputs": [
    {
     "name": "stdout",
     "output_type": "stream",
     "text": [
      "153/153 [==============================] - 4s 25ms/step\n"
     ]
    },
    {
     "data": {
      "text/plain": [
       "array([10, 12, 10, ..., 12,  2,  9], dtype=int64)"
      ]
     },
     "execution_count": 80,
     "metadata": {},
     "output_type": "execute_result"
    }
   ],
   "source": [
    "preds = loaded_model.predict(X_test, \n",
    "                         batch_size=16, \n",
    "                         verbose=1)\n",
    "\n",
    "preds = preds.argmax(axis=1)\n",
    "preds"
   ]
  },
  {
   "cell_type": "code",
   "execution_count": 81,
   "metadata": {},
   "outputs": [
    {
     "data": {
      "text/html": [
       "<div>\n",
       "<style scoped>\n",
       "    .dataframe tbody tr th:only-of-type {\n",
       "        vertical-align: middle;\n",
       "    }\n",
       "\n",
       "    .dataframe tbody tr th {\n",
       "        vertical-align: top;\n",
       "    }\n",
       "\n",
       "    .dataframe thead th {\n",
       "        text-align: right;\n",
       "    }\n",
       "</style>\n",
       "<table border=\"1\" class=\"dataframe\">\n",
       "  <thead>\n",
       "    <tr style=\"text-align: right;\">\n",
       "      <th></th>\n",
       "      <th>actualvalues</th>\n",
       "      <th>predictedvalues</th>\n",
       "    </tr>\n",
       "  </thead>\n",
       "  <tbody>\n",
       "    <tr>\n",
       "      <th>0</th>\n",
       "      <td>male_angry</td>\n",
       "      <td>male_happy</td>\n",
       "    </tr>\n",
       "    <tr>\n",
       "      <th>1</th>\n",
       "      <td>male_sad</td>\n",
       "      <td>male_sad</td>\n",
       "    </tr>\n",
       "    <tr>\n",
       "      <th>2</th>\n",
       "      <td>male_fear</td>\n",
       "      <td>male_happy</td>\n",
       "    </tr>\n",
       "    <tr>\n",
       "      <th>3</th>\n",
       "      <td>female_angry</td>\n",
       "      <td>female_angry</td>\n",
       "    </tr>\n",
       "    <tr>\n",
       "      <th>4</th>\n",
       "      <td>female_happy</td>\n",
       "      <td>female_happy</td>\n",
       "    </tr>\n",
       "    <tr>\n",
       "      <th>5</th>\n",
       "      <td>female_neutral</td>\n",
       "      <td>female_neutral</td>\n",
       "    </tr>\n",
       "    <tr>\n",
       "      <th>6</th>\n",
       "      <td>male_sad</td>\n",
       "      <td>male_sad</td>\n",
       "    </tr>\n",
       "    <tr>\n",
       "      <th>7</th>\n",
       "      <td>female_sad</td>\n",
       "      <td>male_sad</td>\n",
       "    </tr>\n",
       "    <tr>\n",
       "      <th>8</th>\n",
       "      <td>female_happy</td>\n",
       "      <td>female_disgust</td>\n",
       "    </tr>\n",
       "    <tr>\n",
       "      <th>9</th>\n",
       "      <td>female_fear</td>\n",
       "      <td>female_fear</td>\n",
       "    </tr>\n",
       "  </tbody>\n",
       "</table>\n",
       "</div>"
      ],
      "text/plain": [
       "     actualvalues predictedvalues\n",
       "0      male_angry      male_happy\n",
       "1        male_sad        male_sad\n",
       "2       male_fear      male_happy\n",
       "3    female_angry    female_angry\n",
       "4    female_happy    female_happy\n",
       "5  female_neutral  female_neutral\n",
       "6        male_sad        male_sad\n",
       "7      female_sad        male_sad\n",
       "8    female_happy  female_disgust\n",
       "9     female_fear     female_fear"
      ]
     },
     "execution_count": 81,
     "metadata": {},
     "output_type": "execute_result"
    }
   ],
   "source": [
    "# predictions \n",
    "preds = preds.astype(int).flatten()\n",
    "preds = (lb.inverse_transform((preds)))\n",
    "preds = pd.DataFrame({'predictedvalues': preds})\n",
    "\n",
    "# Actual labels\n",
    "actual=y_test.argmax(axis=1)\n",
    "actual = actual.astype(int).flatten()\n",
    "actual = (lb.inverse_transform((actual)))\n",
    "actual = pd.DataFrame({'actualvalues': actual})\n",
    "\n",
    "# Lets combined both of them into a single dataframe\n",
    "finaldf = actual.join(preds)\n",
    "finaldf[0:10]"
   ]
  },
  {
   "cell_type": "code",
   "execution_count": 39,
   "metadata": {},
   "outputs": [
    {
     "data": {
      "text/html": [
       "<div>\n",
       "<style scoped>\n",
       "    .dataframe tbody tr th:only-of-type {\n",
       "        vertical-align: middle;\n",
       "    }\n",
       "\n",
       "    .dataframe tbody tr th {\n",
       "        vertical-align: top;\n",
       "    }\n",
       "\n",
       "    .dataframe thead th {\n",
       "        text-align: right;\n",
       "    }\n",
       "</style>\n",
       "<table border=\"1\" class=\"dataframe\">\n",
       "  <thead>\n",
       "    <tr style=\"text-align: right;\">\n",
       "      <th></th>\n",
       "      <th>labels</th>\n",
       "      <th>source</th>\n",
       "      <th>path</th>\n",
       "    </tr>\n",
       "  </thead>\n",
       "  <tbody>\n",
       "    <tr>\n",
       "      <th>244</th>\n",
       "      <td>male_angry</td>\n",
       "      <td>SAVEE</td>\n",
       "      <td>C:/Users/Moritz/Desktop/Data/SAVEE/JK_a05.wav</td>\n",
       "    </tr>\n",
       "    <tr>\n",
       "      <th>984</th>\n",
       "      <td>male_sad</td>\n",
       "      <td>RAVDESS</td>\n",
       "      <td>C:/Users/Moritz/Desktop/Data/RAVDESS/Actor_09/...</td>\n",
       "    </tr>\n",
       "    <tr>\n",
       "      <th>11706</th>\n",
       "      <td>male_fear</td>\n",
       "      <td>CREMA</td>\n",
       "      <td>C:/Users/Moritz/Desktop/Data/CREMAD/AudioWAV/1...</td>\n",
       "    </tr>\n",
       "    <tr>\n",
       "      <th>9673</th>\n",
       "      <td>female_angry</td>\n",
       "      <td>CREMA</td>\n",
       "      <td>C:/Users/Moritz/Desktop/Data/CREMAD/AudioWAV/1...</td>\n",
       "    </tr>\n",
       "    <tr>\n",
       "      <th>9272</th>\n",
       "      <td>female_happy</td>\n",
       "      <td>CREMA</td>\n",
       "      <td>C:/Users/Moritz/Desktop/Data/CREMAD/AudioWAV/1...</td>\n",
       "    </tr>\n",
       "    <tr>\n",
       "      <th>1861</th>\n",
       "      <td>female_neutral</td>\n",
       "      <td>RAVDESS</td>\n",
       "      <td>C:/Users/Moritz/Desktop/Data/RAVDESS/Actor_24/...</td>\n",
       "    </tr>\n",
       "    <tr>\n",
       "      <th>10222</th>\n",
       "      <td>male_sad</td>\n",
       "      <td>CREMA</td>\n",
       "      <td>C:/Users/Moritz/Desktop/Data/CREMAD/AudioWAV/1...</td>\n",
       "    </tr>\n",
       "    <tr>\n",
       "      <th>11034</th>\n",
       "      <td>female_sad</td>\n",
       "      <td>CREMA</td>\n",
       "      <td>C:/Users/Moritz/Desktop/Data/CREMAD/AudioWAV/1...</td>\n",
       "    </tr>\n",
       "    <tr>\n",
       "      <th>10854</th>\n",
       "      <td>female_happy</td>\n",
       "      <td>CREMA</td>\n",
       "      <td>C:/Users/Moritz/Desktop/Data/CREMAD/AudioWAV/1...</td>\n",
       "    </tr>\n",
       "    <tr>\n",
       "      <th>3816</th>\n",
       "      <td>female_fear</td>\n",
       "      <td>TESS</td>\n",
       "      <td>C:/Users/Moritz/Desktop/Data/TESS/YAF_fear/YAF...</td>\n",
       "    </tr>\n",
       "  </tbody>\n",
       "</table>\n",
       "</div>"
      ],
      "text/plain": [
       "               labels   source  \\\n",
       "244        male_angry    SAVEE   \n",
       "984          male_sad  RAVDESS   \n",
       "11706       male_fear    CREMA   \n",
       "9673     female_angry    CREMA   \n",
       "9272     female_happy    CREMA   \n",
       "1861   female_neutral  RAVDESS   \n",
       "10222        male_sad    CREMA   \n",
       "11034      female_sad    CREMA   \n",
       "10854    female_happy    CREMA   \n",
       "3816      female_fear     TESS   \n",
       "\n",
       "                                                    path  \n",
       "244        C:/Users/Moritz/Desktop/Data/SAVEE/JK_a05.wav  \n",
       "984    C:/Users/Moritz/Desktop/Data/RAVDESS/Actor_09/...  \n",
       "11706  C:/Users/Moritz/Desktop/Data/CREMAD/AudioWAV/1...  \n",
       "9673   C:/Users/Moritz/Desktop/Data/CREMAD/AudioWAV/1...  \n",
       "9272   C:/Users/Moritz/Desktop/Data/CREMAD/AudioWAV/1...  \n",
       "1861   C:/Users/Moritz/Desktop/Data/RAVDESS/Actor_24/...  \n",
       "10222  C:/Users/Moritz/Desktop/Data/CREMAD/AudioWAV/1...  \n",
       "11034  C:/Users/Moritz/Desktop/Data/CREMAD/AudioWAV/1...  \n",
       "10854  C:/Users/Moritz/Desktop/Data/CREMAD/AudioWAV/1...  \n",
       "3816   C:/Users/Moritz/Desktop/Data/TESS/YAF_fear/YAF...  "
      ]
     },
     "execution_count": 39,
     "metadata": {},
     "output_type": "execute_result"
    }
   ],
   "source": [
    "valtest[2432:2442]"
   ]
  },
  {
   "cell_type": "code",
   "execution_count": 40,
   "metadata": {},
   "outputs": [],
   "source": [
    "valtnew = valtest[-2433:]"
   ]
  },
  {
   "cell_type": "code",
   "execution_count": 41,
   "metadata": {},
   "outputs": [],
   "source": [
    "valtnew = valtnew.reset_index()"
   ]
  },
  {
   "cell_type": "code",
   "execution_count": 42,
   "metadata": {},
   "outputs": [
    {
     "data": {
      "text/html": [
       "<div>\n",
       "<style scoped>\n",
       "    .dataframe tbody tr th:only-of-type {\n",
       "        vertical-align: middle;\n",
       "    }\n",
       "\n",
       "    .dataframe tbody tr th {\n",
       "        vertical-align: top;\n",
       "    }\n",
       "\n",
       "    .dataframe thead th {\n",
       "        text-align: right;\n",
       "    }\n",
       "</style>\n",
       "<table border=\"1\" class=\"dataframe\">\n",
       "  <thead>\n",
       "    <tr style=\"text-align: right;\">\n",
       "      <th></th>\n",
       "      <th>index</th>\n",
       "      <th>labels</th>\n",
       "      <th>source</th>\n",
       "      <th>path</th>\n",
       "    </tr>\n",
       "  </thead>\n",
       "  <tbody>\n",
       "    <tr>\n",
       "      <th>0</th>\n",
       "      <td>244</td>\n",
       "      <td>male_angry</td>\n",
       "      <td>SAVEE</td>\n",
       "      <td>C:/Users/Moritz/Desktop/Data/SAVEE/JK_a05.wav</td>\n",
       "    </tr>\n",
       "    <tr>\n",
       "      <th>1</th>\n",
       "      <td>984</td>\n",
       "      <td>male_sad</td>\n",
       "      <td>RAVDESS</td>\n",
       "      <td>C:/Users/Moritz/Desktop/Data/RAVDESS/Actor_09/...</td>\n",
       "    </tr>\n",
       "    <tr>\n",
       "      <th>2</th>\n",
       "      <td>11706</td>\n",
       "      <td>male_fear</td>\n",
       "      <td>CREMA</td>\n",
       "      <td>C:/Users/Moritz/Desktop/Data/CREMAD/AudioWAV/1...</td>\n",
       "    </tr>\n",
       "    <tr>\n",
       "      <th>3</th>\n",
       "      <td>9673</td>\n",
       "      <td>female_angry</td>\n",
       "      <td>CREMA</td>\n",
       "      <td>C:/Users/Moritz/Desktop/Data/CREMAD/AudioWAV/1...</td>\n",
       "    </tr>\n",
       "    <tr>\n",
       "      <th>4</th>\n",
       "      <td>9272</td>\n",
       "      <td>female_happy</td>\n",
       "      <td>CREMA</td>\n",
       "      <td>C:/Users/Moritz/Desktop/Data/CREMAD/AudioWAV/1...</td>\n",
       "    </tr>\n",
       "    <tr>\n",
       "      <th>...</th>\n",
       "      <td>...</td>\n",
       "      <td>...</td>\n",
       "      <td>...</td>\n",
       "      <td>...</td>\n",
       "    </tr>\n",
       "    <tr>\n",
       "      <th>2428</th>\n",
       "      <td>2254</td>\n",
       "      <td>female_surprise</td>\n",
       "      <td>TESS</td>\n",
       "      <td>C:/Users/Moritz/Desktop/Data/TESS/OAF_Pleasant...</td>\n",
       "    </tr>\n",
       "    <tr>\n",
       "      <th>2429</th>\n",
       "      <td>11829</td>\n",
       "      <td>male_disgust</td>\n",
       "      <td>CREMA</td>\n",
       "      <td>C:/Users/Moritz/Desktop/Data/CREMAD/AudioWAV/1...</td>\n",
       "    </tr>\n",
       "    <tr>\n",
       "      <th>2430</th>\n",
       "      <td>6774</td>\n",
       "      <td>male_disgust</td>\n",
       "      <td>CREMA</td>\n",
       "      <td>C:/Users/Moritz/Desktop/Data/CREMAD/AudioWAV/1...</td>\n",
       "    </tr>\n",
       "    <tr>\n",
       "      <th>2431</th>\n",
       "      <td>11110</td>\n",
       "      <td>female_fear</td>\n",
       "      <td>CREMA</td>\n",
       "      <td>C:/Users/Moritz/Desktop/Data/CREMAD/AudioWAV/1...</td>\n",
       "    </tr>\n",
       "    <tr>\n",
       "      <th>2432</th>\n",
       "      <td>11226</td>\n",
       "      <td>male_fear</td>\n",
       "      <td>CREMA</td>\n",
       "      <td>C:/Users/Moritz/Desktop/Data/CREMAD/AudioWAV/1...</td>\n",
       "    </tr>\n",
       "  </tbody>\n",
       "</table>\n",
       "<p>2433 rows × 4 columns</p>\n",
       "</div>"
      ],
      "text/plain": [
       "      index           labels   source  \\\n",
       "0       244       male_angry    SAVEE   \n",
       "1       984         male_sad  RAVDESS   \n",
       "2     11706        male_fear    CREMA   \n",
       "3      9673     female_angry    CREMA   \n",
       "4      9272     female_happy    CREMA   \n",
       "...     ...              ...      ...   \n",
       "2428   2254  female_surprise     TESS   \n",
       "2429  11829     male_disgust    CREMA   \n",
       "2430   6774     male_disgust    CREMA   \n",
       "2431  11110      female_fear    CREMA   \n",
       "2432  11226        male_fear    CREMA   \n",
       "\n",
       "                                                   path  \n",
       "0         C:/Users/Moritz/Desktop/Data/SAVEE/JK_a05.wav  \n",
       "1     C:/Users/Moritz/Desktop/Data/RAVDESS/Actor_09/...  \n",
       "2     C:/Users/Moritz/Desktop/Data/CREMAD/AudioWAV/1...  \n",
       "3     C:/Users/Moritz/Desktop/Data/CREMAD/AudioWAV/1...  \n",
       "4     C:/Users/Moritz/Desktop/Data/CREMAD/AudioWAV/1...  \n",
       "...                                                 ...  \n",
       "2428  C:/Users/Moritz/Desktop/Data/TESS/OAF_Pleasant...  \n",
       "2429  C:/Users/Moritz/Desktop/Data/CREMAD/AudioWAV/1...  \n",
       "2430  C:/Users/Moritz/Desktop/Data/CREMAD/AudioWAV/1...  \n",
       "2431  C:/Users/Moritz/Desktop/Data/CREMAD/AudioWAV/1...  \n",
       "2432  C:/Users/Moritz/Desktop/Data/CREMAD/AudioWAV/1...  \n",
       "\n",
       "[2433 rows x 4 columns]"
      ]
     },
     "execution_count": 42,
     "metadata": {},
     "output_type": "execute_result"
    }
   ],
   "source": [
    "valtnew"
   ]
  },
  {
   "cell_type": "code",
   "execution_count": 43,
   "metadata": {},
   "outputs": [],
   "source": [
    "del valtnew['index']"
   ]
  },
  {
   "cell_type": "code",
   "execution_count": 44,
   "metadata": {},
   "outputs": [
    {
     "data": {
      "text/html": [
       "<div>\n",
       "<style scoped>\n",
       "    .dataframe tbody tr th:only-of-type {\n",
       "        vertical-align: middle;\n",
       "    }\n",
       "\n",
       "    .dataframe tbody tr th {\n",
       "        vertical-align: top;\n",
       "    }\n",
       "\n",
       "    .dataframe thead th {\n",
       "        text-align: right;\n",
       "    }\n",
       "</style>\n",
       "<table border=\"1\" class=\"dataframe\">\n",
       "  <thead>\n",
       "    <tr style=\"text-align: right;\">\n",
       "      <th></th>\n",
       "      <th>labels</th>\n",
       "      <th>source</th>\n",
       "      <th>path</th>\n",
       "    </tr>\n",
       "  </thead>\n",
       "  <tbody>\n",
       "    <tr>\n",
       "      <th>0</th>\n",
       "      <td>male_angry</td>\n",
       "      <td>SAVEE</td>\n",
       "      <td>C:/Users/Moritz/Desktop/Data/SAVEE/JK_a05.wav</td>\n",
       "    </tr>\n",
       "    <tr>\n",
       "      <th>1</th>\n",
       "      <td>male_sad</td>\n",
       "      <td>RAVDESS</td>\n",
       "      <td>C:/Users/Moritz/Desktop/Data/RAVDESS/Actor_09/...</td>\n",
       "    </tr>\n",
       "    <tr>\n",
       "      <th>2</th>\n",
       "      <td>male_fear</td>\n",
       "      <td>CREMA</td>\n",
       "      <td>C:/Users/Moritz/Desktop/Data/CREMAD/AudioWAV/1...</td>\n",
       "    </tr>\n",
       "    <tr>\n",
       "      <th>3</th>\n",
       "      <td>female_angry</td>\n",
       "      <td>CREMA</td>\n",
       "      <td>C:/Users/Moritz/Desktop/Data/CREMAD/AudioWAV/1...</td>\n",
       "    </tr>\n",
       "    <tr>\n",
       "      <th>4</th>\n",
       "      <td>female_happy</td>\n",
       "      <td>CREMA</td>\n",
       "      <td>C:/Users/Moritz/Desktop/Data/CREMAD/AudioWAV/1...</td>\n",
       "    </tr>\n",
       "    <tr>\n",
       "      <th>...</th>\n",
       "      <td>...</td>\n",
       "      <td>...</td>\n",
       "      <td>...</td>\n",
       "    </tr>\n",
       "    <tr>\n",
       "      <th>2428</th>\n",
       "      <td>female_surprise</td>\n",
       "      <td>TESS</td>\n",
       "      <td>C:/Users/Moritz/Desktop/Data/TESS/OAF_Pleasant...</td>\n",
       "    </tr>\n",
       "    <tr>\n",
       "      <th>2429</th>\n",
       "      <td>male_disgust</td>\n",
       "      <td>CREMA</td>\n",
       "      <td>C:/Users/Moritz/Desktop/Data/CREMAD/AudioWAV/1...</td>\n",
       "    </tr>\n",
       "    <tr>\n",
       "      <th>2430</th>\n",
       "      <td>male_disgust</td>\n",
       "      <td>CREMA</td>\n",
       "      <td>C:/Users/Moritz/Desktop/Data/CREMAD/AudioWAV/1...</td>\n",
       "    </tr>\n",
       "    <tr>\n",
       "      <th>2431</th>\n",
       "      <td>female_fear</td>\n",
       "      <td>CREMA</td>\n",
       "      <td>C:/Users/Moritz/Desktop/Data/CREMAD/AudioWAV/1...</td>\n",
       "    </tr>\n",
       "    <tr>\n",
       "      <th>2432</th>\n",
       "      <td>male_fear</td>\n",
       "      <td>CREMA</td>\n",
       "      <td>C:/Users/Moritz/Desktop/Data/CREMAD/AudioWAV/1...</td>\n",
       "    </tr>\n",
       "  </tbody>\n",
       "</table>\n",
       "<p>2433 rows × 3 columns</p>\n",
       "</div>"
      ],
      "text/plain": [
       "               labels   source  \\\n",
       "0          male_angry    SAVEE   \n",
       "1            male_sad  RAVDESS   \n",
       "2           male_fear    CREMA   \n",
       "3        female_angry    CREMA   \n",
       "4        female_happy    CREMA   \n",
       "...               ...      ...   \n",
       "2428  female_surprise     TESS   \n",
       "2429     male_disgust    CREMA   \n",
       "2430     male_disgust    CREMA   \n",
       "2431      female_fear    CREMA   \n",
       "2432        male_fear    CREMA   \n",
       "\n",
       "                                                   path  \n",
       "0         C:/Users/Moritz/Desktop/Data/SAVEE/JK_a05.wav  \n",
       "1     C:/Users/Moritz/Desktop/Data/RAVDESS/Actor_09/...  \n",
       "2     C:/Users/Moritz/Desktop/Data/CREMAD/AudioWAV/1...  \n",
       "3     C:/Users/Moritz/Desktop/Data/CREMAD/AudioWAV/1...  \n",
       "4     C:/Users/Moritz/Desktop/Data/CREMAD/AudioWAV/1...  \n",
       "...                                                 ...  \n",
       "2428  C:/Users/Moritz/Desktop/Data/TESS/OAF_Pleasant...  \n",
       "2429  C:/Users/Moritz/Desktop/Data/CREMAD/AudioWAV/1...  \n",
       "2430  C:/Users/Moritz/Desktop/Data/CREMAD/AudioWAV/1...  \n",
       "2431  C:/Users/Moritz/Desktop/Data/CREMAD/AudioWAV/1...  \n",
       "2432  C:/Users/Moritz/Desktop/Data/CREMAD/AudioWAV/1...  \n",
       "\n",
       "[2433 rows x 3 columns]"
      ]
     },
     "execution_count": 44,
     "metadata": {},
     "output_type": "execute_result"
    }
   ],
   "source": [
    "valtnew"
   ]
  },
  {
   "cell_type": "code",
   "execution_count": 45,
   "metadata": {},
   "outputs": [
    {
     "data": {
      "text/html": [
       "<div>\n",
       "<style scoped>\n",
       "    .dataframe tbody tr th:only-of-type {\n",
       "        vertical-align: middle;\n",
       "    }\n",
       "\n",
       "    .dataframe tbody tr th {\n",
       "        vertical-align: top;\n",
       "    }\n",
       "\n",
       "    .dataframe thead th {\n",
       "        text-align: right;\n",
       "    }\n",
       "</style>\n",
       "<table border=\"1\" class=\"dataframe\">\n",
       "  <thead>\n",
       "    <tr style=\"text-align: right;\">\n",
       "      <th></th>\n",
       "      <th>actualvalues</th>\n",
       "      <th>predictedvalues</th>\n",
       "    </tr>\n",
       "  </thead>\n",
       "  <tbody>\n",
       "    <tr>\n",
       "      <th>0</th>\n",
       "      <td>male_angry</td>\n",
       "      <td>male_happy</td>\n",
       "    </tr>\n",
       "    <tr>\n",
       "      <th>1</th>\n",
       "      <td>male_sad</td>\n",
       "      <td>male_sad</td>\n",
       "    </tr>\n",
       "    <tr>\n",
       "      <th>2</th>\n",
       "      <td>male_fear</td>\n",
       "      <td>male_happy</td>\n",
       "    </tr>\n",
       "    <tr>\n",
       "      <th>3</th>\n",
       "      <td>female_angry</td>\n",
       "      <td>female_angry</td>\n",
       "    </tr>\n",
       "    <tr>\n",
       "      <th>4</th>\n",
       "      <td>female_happy</td>\n",
       "      <td>female_happy</td>\n",
       "    </tr>\n",
       "    <tr>\n",
       "      <th>...</th>\n",
       "      <td>...</td>\n",
       "      <td>...</td>\n",
       "    </tr>\n",
       "    <tr>\n",
       "      <th>2428</th>\n",
       "      <td>female_surprise</td>\n",
       "      <td>female_surprise</td>\n",
       "    </tr>\n",
       "    <tr>\n",
       "      <th>2429</th>\n",
       "      <td>male_disgust</td>\n",
       "      <td>male_disgust</td>\n",
       "    </tr>\n",
       "    <tr>\n",
       "      <th>2430</th>\n",
       "      <td>male_disgust</td>\n",
       "      <td>male_sad</td>\n",
       "    </tr>\n",
       "    <tr>\n",
       "      <th>2431</th>\n",
       "      <td>female_fear</td>\n",
       "      <td>female_fear</td>\n",
       "    </tr>\n",
       "    <tr>\n",
       "      <th>2432</th>\n",
       "      <td>male_fear</td>\n",
       "      <td>male_fear</td>\n",
       "    </tr>\n",
       "  </tbody>\n",
       "</table>\n",
       "<p>2433 rows × 2 columns</p>\n",
       "</div>"
      ],
      "text/plain": [
       "         actualvalues  predictedvalues\n",
       "0          male_angry       male_happy\n",
       "1            male_sad         male_sad\n",
       "2           male_fear       male_happy\n",
       "3        female_angry     female_angry\n",
       "4        female_happy     female_happy\n",
       "...               ...              ...\n",
       "2428  female_surprise  female_surprise\n",
       "2429     male_disgust     male_disgust\n",
       "2430     male_disgust         male_sad\n",
       "2431      female_fear      female_fear\n",
       "2432        male_fear        male_fear\n",
       "\n",
       "[2433 rows x 2 columns]"
      ]
     },
     "execution_count": 45,
     "metadata": {},
     "output_type": "execute_result"
    }
   ],
   "source": [
    "finaldf"
   ]
  },
  {
   "cell_type": "code",
   "execution_count": 94,
   "metadata": {},
   "outputs": [],
   "source": [
    "finaldf['source']= valtnew['source']"
   ]
  },
  {
   "cell_type": "code",
   "execution_count": 95,
   "metadata": {},
   "outputs": [
    {
     "data": {
      "text/html": [
       "<div>\n",
       "<style scoped>\n",
       "    .dataframe tbody tr th:only-of-type {\n",
       "        vertical-align: middle;\n",
       "    }\n",
       "\n",
       "    .dataframe tbody tr th {\n",
       "        vertical-align: top;\n",
       "    }\n",
       "\n",
       "    .dataframe thead th {\n",
       "        text-align: right;\n",
       "    }\n",
       "</style>\n",
       "<table border=\"1\" class=\"dataframe\">\n",
       "  <thead>\n",
       "    <tr style=\"text-align: right;\">\n",
       "      <th></th>\n",
       "      <th>actualvalues</th>\n",
       "      <th>predictedvalues</th>\n",
       "      <th>source</th>\n",
       "    </tr>\n",
       "  </thead>\n",
       "  <tbody>\n",
       "    <tr>\n",
       "      <th>0</th>\n",
       "      <td>male_angry</td>\n",
       "      <td>male_happy</td>\n",
       "      <td>SAVEE</td>\n",
       "    </tr>\n",
       "    <tr>\n",
       "      <th>1</th>\n",
       "      <td>male_sad</td>\n",
       "      <td>male_sad</td>\n",
       "      <td>RAVDESS</td>\n",
       "    </tr>\n",
       "    <tr>\n",
       "      <th>2</th>\n",
       "      <td>male_fear</td>\n",
       "      <td>male_happy</td>\n",
       "      <td>CREMA</td>\n",
       "    </tr>\n",
       "    <tr>\n",
       "      <th>3</th>\n",
       "      <td>female_angry</td>\n",
       "      <td>female_angry</td>\n",
       "      <td>CREMA</td>\n",
       "    </tr>\n",
       "    <tr>\n",
       "      <th>4</th>\n",
       "      <td>female_happy</td>\n",
       "      <td>female_happy</td>\n",
       "      <td>CREMA</td>\n",
       "    </tr>\n",
       "    <tr>\n",
       "      <th>...</th>\n",
       "      <td>...</td>\n",
       "      <td>...</td>\n",
       "      <td>...</td>\n",
       "    </tr>\n",
       "    <tr>\n",
       "      <th>2428</th>\n",
       "      <td>female_surprise</td>\n",
       "      <td>female_surprise</td>\n",
       "      <td>TESS</td>\n",
       "    </tr>\n",
       "    <tr>\n",
       "      <th>2429</th>\n",
       "      <td>male_disgust</td>\n",
       "      <td>male_disgust</td>\n",
       "      <td>CREMA</td>\n",
       "    </tr>\n",
       "    <tr>\n",
       "      <th>2430</th>\n",
       "      <td>male_disgust</td>\n",
       "      <td>male_sad</td>\n",
       "      <td>CREMA</td>\n",
       "    </tr>\n",
       "    <tr>\n",
       "      <th>2431</th>\n",
       "      <td>female_fear</td>\n",
       "      <td>female_fear</td>\n",
       "      <td>CREMA</td>\n",
       "    </tr>\n",
       "    <tr>\n",
       "      <th>2432</th>\n",
       "      <td>male_fear</td>\n",
       "      <td>male_fear</td>\n",
       "      <td>CREMA</td>\n",
       "    </tr>\n",
       "  </tbody>\n",
       "</table>\n",
       "<p>2433 rows × 3 columns</p>\n",
       "</div>"
      ],
      "text/plain": [
       "         actualvalues  predictedvalues   source\n",
       "0          male_angry       male_happy    SAVEE\n",
       "1            male_sad         male_sad  RAVDESS\n",
       "2           male_fear       male_happy    CREMA\n",
       "3        female_angry     female_angry    CREMA\n",
       "4        female_happy     female_happy    CREMA\n",
       "...               ...              ...      ...\n",
       "2428  female_surprise  female_surprise     TESS\n",
       "2429     male_disgust     male_disgust    CREMA\n",
       "2430     male_disgust         male_sad    CREMA\n",
       "2431      female_fear      female_fear    CREMA\n",
       "2432        male_fear        male_fear    CREMA\n",
       "\n",
       "[2433 rows x 3 columns]"
      ]
     },
     "execution_count": 95,
     "metadata": {},
     "output_type": "execute_result"
    }
   ],
   "source": [
    "finaldf"
   ]
  },
  {
   "cell_type": "code",
   "execution_count": 48,
   "metadata": {},
   "outputs": [],
   "source": [
    "#######male part"
   ]
  },
  {
   "cell_type": "code",
   "execution_count": 49,
   "metadata": {},
   "outputs": [],
   "source": [
    "fdf2 = finaldf[finaldf.predictedvalues == 'male_neutral']"
   ]
  },
  {
   "cell_type": "code",
   "execution_count": 96,
   "metadata": {},
   "outputs": [],
   "source": [
    "rfdf2 = finaldf[finaldf.actualvalues == 'male_neutral']"
   ]
  },
  {
   "cell_type": "code",
   "execution_count": 50,
   "metadata": {},
   "outputs": [],
   "source": [
    "fdf = fdf2[fdf2.predictedvalues != fdf2.actualvalues]"
   ]
  },
  {
   "cell_type": "code",
   "execution_count": 51,
   "metadata": {
    "scrolled": true
   },
   "outputs": [
    {
     "data": {
      "text/html": [
       "<div>\n",
       "<style scoped>\n",
       "    .dataframe tbody tr th:only-of-type {\n",
       "        vertical-align: middle;\n",
       "    }\n",
       "\n",
       "    .dataframe tbody tr th {\n",
       "        vertical-align: top;\n",
       "    }\n",
       "\n",
       "    .dataframe thead th {\n",
       "        text-align: right;\n",
       "    }\n",
       "</style>\n",
       "<table border=\"1\" class=\"dataframe\">\n",
       "  <thead>\n",
       "    <tr style=\"text-align: right;\">\n",
       "      <th></th>\n",
       "      <th>actualvalues</th>\n",
       "      <th>predictedvalues</th>\n",
       "      <th>source</th>\n",
       "    </tr>\n",
       "  </thead>\n",
       "  <tbody>\n",
       "    <tr>\n",
       "      <th>14</th>\n",
       "      <td>male_happy</td>\n",
       "      <td>male_neutral</td>\n",
       "      <td>CREMA</td>\n",
       "    </tr>\n",
       "    <tr>\n",
       "      <th>21</th>\n",
       "      <td>male_neutral</td>\n",
       "      <td>male_neutral</td>\n",
       "      <td>CREMA</td>\n",
       "    </tr>\n",
       "    <tr>\n",
       "      <th>25</th>\n",
       "      <td>male_neutral</td>\n",
       "      <td>male_neutral</td>\n",
       "      <td>CREMA</td>\n",
       "    </tr>\n",
       "    <tr>\n",
       "      <th>42</th>\n",
       "      <td>male_neutral</td>\n",
       "      <td>male_neutral</td>\n",
       "      <td>CREMA</td>\n",
       "    </tr>\n",
       "    <tr>\n",
       "      <th>44</th>\n",
       "      <td>male_neutral</td>\n",
       "      <td>male_neutral</td>\n",
       "      <td>RAVDESS</td>\n",
       "    </tr>\n",
       "    <tr>\n",
       "      <th>...</th>\n",
       "      <td>...</td>\n",
       "      <td>...</td>\n",
       "      <td>...</td>\n",
       "    </tr>\n",
       "    <tr>\n",
       "      <th>2391</th>\n",
       "      <td>male_neutral</td>\n",
       "      <td>male_neutral</td>\n",
       "      <td>CREMA</td>\n",
       "    </tr>\n",
       "    <tr>\n",
       "      <th>2402</th>\n",
       "      <td>male_neutral</td>\n",
       "      <td>male_neutral</td>\n",
       "      <td>CREMA</td>\n",
       "    </tr>\n",
       "    <tr>\n",
       "      <th>2405</th>\n",
       "      <td>male_fear</td>\n",
       "      <td>male_neutral</td>\n",
       "      <td>CREMA</td>\n",
       "    </tr>\n",
       "    <tr>\n",
       "      <th>2411</th>\n",
       "      <td>male_neutral</td>\n",
       "      <td>male_neutral</td>\n",
       "      <td>SAVEE</td>\n",
       "    </tr>\n",
       "    <tr>\n",
       "      <th>2413</th>\n",
       "      <td>male_disgust</td>\n",
       "      <td>male_neutral</td>\n",
       "      <td>CREMA</td>\n",
       "    </tr>\n",
       "  </tbody>\n",
       "</table>\n",
       "<p>202 rows × 3 columns</p>\n",
       "</div>"
      ],
      "text/plain": [
       "      actualvalues predictedvalues   source\n",
       "14      male_happy    male_neutral    CREMA\n",
       "21    male_neutral    male_neutral    CREMA\n",
       "25    male_neutral    male_neutral    CREMA\n",
       "42    male_neutral    male_neutral    CREMA\n",
       "44    male_neutral    male_neutral  RAVDESS\n",
       "...            ...             ...      ...\n",
       "2391  male_neutral    male_neutral    CREMA\n",
       "2402  male_neutral    male_neutral    CREMA\n",
       "2405     male_fear    male_neutral    CREMA\n",
       "2411  male_neutral    male_neutral    SAVEE\n",
       "2413  male_disgust    male_neutral    CREMA\n",
       "\n",
       "[202 rows x 3 columns]"
      ]
     },
     "execution_count": 51,
     "metadata": {},
     "output_type": "execute_result"
    }
   ],
   "source": [
    "fdf2"
   ]
  },
  {
   "cell_type": "code",
   "execution_count": 52,
   "metadata": {},
   "outputs": [
    {
     "data": {
      "text/plain": [
       "CREMA      66\n",
       "SAVEE       7\n",
       "RAVDESS     5\n",
       "Name: source, dtype: int64"
      ]
     },
     "execution_count": 52,
     "metadata": {},
     "output_type": "execute_result"
    }
   ],
   "source": [
    "fdf['source'].value_counts() # counts how many mispredicted \"male_neutral\" are in what data set"
   ]
  },
  {
   "cell_type": "code",
   "execution_count": 53,
   "metadata": {},
   "outputs": [],
   "source": [
    "fdf1 = finaldf[finaldf.predictedvalues != finaldf.actualvalues]"
   ]
  },
  {
   "cell_type": "code",
   "execution_count": 54,
   "metadata": {},
   "outputs": [
    {
     "data": {
      "text/plain": [
       "CREMA      584\n",
       "RAVDESS     71\n",
       "SAVEE       47\n",
       "Name: source, dtype: int64"
      ]
     },
     "execution_count": 54,
     "metadata": {},
     "output_type": "execute_result"
    }
   ],
   "source": [
    "fdf1['source'].value_counts() # counts how many mispredicted totals are in what data set"
   ]
  },
  {
   "cell_type": "code",
   "execution_count": 55,
   "metadata": {},
   "outputs": [
    {
     "data": {
      "text/plain": [
       "CREMA      1499\n",
       "TESS        548\n",
       "RAVDESS     279\n",
       "SAVEE       107\n",
       "Name: source, dtype: int64"
      ]
     },
     "execution_count": 55,
     "metadata": {},
     "output_type": "execute_result"
    }
   ],
   "source": [
    "finaldf['source'].value_counts() # counts how many total values we have in what data set"
   ]
  },
  {
   "cell_type": "code",
   "execution_count": 56,
   "metadata": {
    "scrolled": true
   },
   "outputs": [
    {
     "data": {
      "text/plain": [
       "CREMA      138\n",
       "SAVEE       34\n",
       "RAVDESS     30\n",
       "Name: source, dtype: int64"
      ]
     },
     "execution_count": 56,
     "metadata": {},
     "output_type": "execute_result"
    }
   ],
   "source": [
    "fdf2['source'].value_counts() # counts how many total predicted 'male neutral' we have"
   ]
  },
  {
   "cell_type": "code",
   "execution_count": 97,
   "metadata": {},
   "outputs": [
    {
     "data": {
      "text/plain": [
       "CREMA      109\n",
       "SAVEE       32\n",
       "RAVDESS     28\n",
       "Name: source, dtype: int64"
      ]
     },
     "execution_count": 97,
     "metadata": {},
     "output_type": "execute_result"
    }
   ],
   "source": [
    "rfdf2['source'].value_counts()"
   ]
  },
  {
   "cell_type": "code",
   "execution_count": 57,
   "metadata": {},
   "outputs": [],
   "source": [
    "#female part"
   ]
  },
  {
   "cell_type": "code",
   "execution_count": 58,
   "metadata": {},
   "outputs": [],
   "source": [
    "ffdf2 = finaldf[finaldf.predictedvalues == 'female_neutral']\n",
    "ffdf = ffdf2[ffdf2.predictedvalues != ffdf2.actualvalues]"
   ]
  },
  {
   "cell_type": "code",
   "execution_count": 59,
   "metadata": {},
   "outputs": [
    {
     "data": {
      "text/plain": [
       "CREMA      64\n",
       "RAVDESS    12\n",
       "Name: source, dtype: int64"
      ]
     },
     "execution_count": 59,
     "metadata": {},
     "output_type": "execute_result"
    }
   ],
   "source": [
    "ffdf['source'].value_counts() # counts how many mispredicted \"female_neutral\" are in what data set"
   ]
  },
  {
   "cell_type": "code",
   "execution_count": 60,
   "metadata": {},
   "outputs": [
    {
     "data": {
      "text/plain": [
       "CREMA      149\n",
       "TESS        70\n",
       "RAVDESS     44\n",
       "Name: source, dtype: int64"
      ]
     },
     "execution_count": 60,
     "metadata": {},
     "output_type": "execute_result"
    }
   ],
   "source": [
    "ffdf2['source'].value_counts() # counts how many total predicted 'female neutral' we have"
   ]
  },
  {
   "cell_type": "code",
   "execution_count": 82,
   "metadata": {},
   "outputs": [
    {
     "ename": "ValueError",
     "evalue": "invalid literal for int() with base 10: 'male_happy'",
     "output_type": "error",
     "traceback": [
      "\u001b[1;31m---------------------------------------------------------------------------\u001b[0m",
      "\u001b[1;31mValueError\u001b[0m                                Traceback (most recent call last)",
      "\u001b[1;32m<ipython-input-82-bf456c3cbe76>\u001b[0m in \u001b[0;36m<module>\u001b[1;34m\u001b[0m\n\u001b[0;32m      1\u001b[0m \u001b[1;31m# predictions\u001b[0m\u001b[1;33m\u001b[0m\u001b[1;33m\u001b[0m\u001b[1;33m\u001b[0m\u001b[0m\n\u001b[1;32m----> 2\u001b[1;33m \u001b[0mpreds\u001b[0m \u001b[1;33m=\u001b[0m \u001b[0mpreds\u001b[0m\u001b[1;33m.\u001b[0m\u001b[0mastype\u001b[0m\u001b[1;33m(\u001b[0m\u001b[0mint\u001b[0m\u001b[1;33m)\u001b[0m\u001b[1;33m.\u001b[0m\u001b[0mflatten\u001b[0m\u001b[1;33m(\u001b[0m\u001b[1;33m)\u001b[0m\u001b[1;33m\u001b[0m\u001b[1;33m\u001b[0m\u001b[0m\n\u001b[0m\u001b[0;32m      3\u001b[0m \u001b[0mpreds\u001b[0m \u001b[1;33m=\u001b[0m \u001b[1;33m(\u001b[0m\u001b[0mlb\u001b[0m\u001b[1;33m.\u001b[0m\u001b[0minverse_transform\u001b[0m\u001b[1;33m(\u001b[0m\u001b[1;33m(\u001b[0m\u001b[0mpreds\u001b[0m\u001b[1;33m)\u001b[0m\u001b[1;33m)\u001b[0m\u001b[1;33m)\u001b[0m\u001b[1;33m\u001b[0m\u001b[1;33m\u001b[0m\u001b[0m\n\u001b[0;32m      4\u001b[0m \u001b[0mpreds\u001b[0m \u001b[1;33m=\u001b[0m \u001b[0mpd\u001b[0m\u001b[1;33m.\u001b[0m\u001b[0mDataFrame\u001b[0m\u001b[1;33m(\u001b[0m\u001b[1;33m{\u001b[0m\u001b[1;34m'predictedvalues'\u001b[0m\u001b[1;33m:\u001b[0m \u001b[0mpreds\u001b[0m\u001b[1;33m}\u001b[0m\u001b[1;33m)\u001b[0m\u001b[1;33m\u001b[0m\u001b[1;33m\u001b[0m\u001b[0m\n\u001b[0;32m      5\u001b[0m \u001b[1;33m\u001b[0m\u001b[0m\n",
      "\u001b[1;32m~\\anaconda3\\lib\\site-packages\\pandas\\core\\generic.py\u001b[0m in \u001b[0;36mastype\u001b[1;34m(self, dtype, copy, errors)\u001b[0m\n\u001b[0;32m   5696\u001b[0m         \u001b[1;32melse\u001b[0m\u001b[1;33m:\u001b[0m\u001b[1;33m\u001b[0m\u001b[1;33m\u001b[0m\u001b[0m\n\u001b[0;32m   5697\u001b[0m             \u001b[1;31m# else, only a single dtype is given\u001b[0m\u001b[1;33m\u001b[0m\u001b[1;33m\u001b[0m\u001b[1;33m\u001b[0m\u001b[0m\n\u001b[1;32m-> 5698\u001b[1;33m             \u001b[0mnew_data\u001b[0m \u001b[1;33m=\u001b[0m \u001b[0mself\u001b[0m\u001b[1;33m.\u001b[0m\u001b[0m_data\u001b[0m\u001b[1;33m.\u001b[0m\u001b[0mastype\u001b[0m\u001b[1;33m(\u001b[0m\u001b[0mdtype\u001b[0m\u001b[1;33m=\u001b[0m\u001b[0mdtype\u001b[0m\u001b[1;33m,\u001b[0m \u001b[0mcopy\u001b[0m\u001b[1;33m=\u001b[0m\u001b[0mcopy\u001b[0m\u001b[1;33m,\u001b[0m \u001b[0merrors\u001b[0m\u001b[1;33m=\u001b[0m\u001b[0merrors\u001b[0m\u001b[1;33m)\u001b[0m\u001b[1;33m\u001b[0m\u001b[1;33m\u001b[0m\u001b[0m\n\u001b[0m\u001b[0;32m   5699\u001b[0m             \u001b[1;32mreturn\u001b[0m \u001b[0mself\u001b[0m\u001b[1;33m.\u001b[0m\u001b[0m_constructor\u001b[0m\u001b[1;33m(\u001b[0m\u001b[0mnew_data\u001b[0m\u001b[1;33m)\u001b[0m\u001b[1;33m.\u001b[0m\u001b[0m__finalize__\u001b[0m\u001b[1;33m(\u001b[0m\u001b[0mself\u001b[0m\u001b[1;33m)\u001b[0m\u001b[1;33m\u001b[0m\u001b[1;33m\u001b[0m\u001b[0m\n\u001b[0;32m   5700\u001b[0m \u001b[1;33m\u001b[0m\u001b[0m\n",
      "\u001b[1;32m~\\anaconda3\\lib\\site-packages\\pandas\\core\\internals\\managers.py\u001b[0m in \u001b[0;36mastype\u001b[1;34m(self, dtype, copy, errors)\u001b[0m\n\u001b[0;32m    580\u001b[0m \u001b[1;33m\u001b[0m\u001b[0m\n\u001b[0;32m    581\u001b[0m     \u001b[1;32mdef\u001b[0m \u001b[0mastype\u001b[0m\u001b[1;33m(\u001b[0m\u001b[0mself\u001b[0m\u001b[1;33m,\u001b[0m \u001b[0mdtype\u001b[0m\u001b[1;33m,\u001b[0m \u001b[0mcopy\u001b[0m\u001b[1;33m:\u001b[0m \u001b[0mbool\u001b[0m \u001b[1;33m=\u001b[0m \u001b[1;32mFalse\u001b[0m\u001b[1;33m,\u001b[0m \u001b[0merrors\u001b[0m\u001b[1;33m:\u001b[0m \u001b[0mstr\u001b[0m \u001b[1;33m=\u001b[0m \u001b[1;34m\"raise\"\u001b[0m\u001b[1;33m)\u001b[0m\u001b[1;33m:\u001b[0m\u001b[1;33m\u001b[0m\u001b[1;33m\u001b[0m\u001b[0m\n\u001b[1;32m--> 582\u001b[1;33m         \u001b[1;32mreturn\u001b[0m \u001b[0mself\u001b[0m\u001b[1;33m.\u001b[0m\u001b[0mapply\u001b[0m\u001b[1;33m(\u001b[0m\u001b[1;34m\"astype\"\u001b[0m\u001b[1;33m,\u001b[0m \u001b[0mdtype\u001b[0m\u001b[1;33m=\u001b[0m\u001b[0mdtype\u001b[0m\u001b[1;33m,\u001b[0m \u001b[0mcopy\u001b[0m\u001b[1;33m=\u001b[0m\u001b[0mcopy\u001b[0m\u001b[1;33m,\u001b[0m \u001b[0merrors\u001b[0m\u001b[1;33m=\u001b[0m\u001b[0merrors\u001b[0m\u001b[1;33m)\u001b[0m\u001b[1;33m\u001b[0m\u001b[1;33m\u001b[0m\u001b[0m\n\u001b[0m\u001b[0;32m    583\u001b[0m \u001b[1;33m\u001b[0m\u001b[0m\n\u001b[0;32m    584\u001b[0m     \u001b[1;32mdef\u001b[0m \u001b[0mconvert\u001b[0m\u001b[1;33m(\u001b[0m\u001b[0mself\u001b[0m\u001b[1;33m,\u001b[0m \u001b[1;33m**\u001b[0m\u001b[0mkwargs\u001b[0m\u001b[1;33m)\u001b[0m\u001b[1;33m:\u001b[0m\u001b[1;33m\u001b[0m\u001b[1;33m\u001b[0m\u001b[0m\n",
      "\u001b[1;32m~\\anaconda3\\lib\\site-packages\\pandas\\core\\internals\\managers.py\u001b[0m in \u001b[0;36mapply\u001b[1;34m(self, f, filter, **kwargs)\u001b[0m\n\u001b[0;32m    440\u001b[0m                 \u001b[0mapplied\u001b[0m \u001b[1;33m=\u001b[0m \u001b[0mb\u001b[0m\u001b[1;33m.\u001b[0m\u001b[0mapply\u001b[0m\u001b[1;33m(\u001b[0m\u001b[0mf\u001b[0m\u001b[1;33m,\u001b[0m \u001b[1;33m**\u001b[0m\u001b[0mkwargs\u001b[0m\u001b[1;33m)\u001b[0m\u001b[1;33m\u001b[0m\u001b[1;33m\u001b[0m\u001b[0m\n\u001b[0;32m    441\u001b[0m             \u001b[1;32melse\u001b[0m\u001b[1;33m:\u001b[0m\u001b[1;33m\u001b[0m\u001b[1;33m\u001b[0m\u001b[0m\n\u001b[1;32m--> 442\u001b[1;33m                 \u001b[0mapplied\u001b[0m \u001b[1;33m=\u001b[0m \u001b[0mgetattr\u001b[0m\u001b[1;33m(\u001b[0m\u001b[0mb\u001b[0m\u001b[1;33m,\u001b[0m \u001b[0mf\u001b[0m\u001b[1;33m)\u001b[0m\u001b[1;33m(\u001b[0m\u001b[1;33m**\u001b[0m\u001b[0mkwargs\u001b[0m\u001b[1;33m)\u001b[0m\u001b[1;33m\u001b[0m\u001b[1;33m\u001b[0m\u001b[0m\n\u001b[0m\u001b[0;32m    443\u001b[0m             \u001b[0mresult_blocks\u001b[0m \u001b[1;33m=\u001b[0m \u001b[0m_extend_blocks\u001b[0m\u001b[1;33m(\u001b[0m\u001b[0mapplied\u001b[0m\u001b[1;33m,\u001b[0m \u001b[0mresult_blocks\u001b[0m\u001b[1;33m)\u001b[0m\u001b[1;33m\u001b[0m\u001b[1;33m\u001b[0m\u001b[0m\n\u001b[0;32m    444\u001b[0m \u001b[1;33m\u001b[0m\u001b[0m\n",
      "\u001b[1;32m~\\anaconda3\\lib\\site-packages\\pandas\\core\\internals\\blocks.py\u001b[0m in \u001b[0;36mastype\u001b[1;34m(self, dtype, copy, errors)\u001b[0m\n\u001b[0;32m    623\u001b[0m             \u001b[0mvals1d\u001b[0m \u001b[1;33m=\u001b[0m \u001b[0mvalues\u001b[0m\u001b[1;33m.\u001b[0m\u001b[0mravel\u001b[0m\u001b[1;33m(\u001b[0m\u001b[1;33m)\u001b[0m\u001b[1;33m\u001b[0m\u001b[1;33m\u001b[0m\u001b[0m\n\u001b[0;32m    624\u001b[0m             \u001b[1;32mtry\u001b[0m\u001b[1;33m:\u001b[0m\u001b[1;33m\u001b[0m\u001b[1;33m\u001b[0m\u001b[0m\n\u001b[1;32m--> 625\u001b[1;33m                 \u001b[0mvalues\u001b[0m \u001b[1;33m=\u001b[0m \u001b[0mastype_nansafe\u001b[0m\u001b[1;33m(\u001b[0m\u001b[0mvals1d\u001b[0m\u001b[1;33m,\u001b[0m \u001b[0mdtype\u001b[0m\u001b[1;33m,\u001b[0m \u001b[0mcopy\u001b[0m\u001b[1;33m=\u001b[0m\u001b[1;32mTrue\u001b[0m\u001b[1;33m)\u001b[0m\u001b[1;33m\u001b[0m\u001b[1;33m\u001b[0m\u001b[0m\n\u001b[0m\u001b[0;32m    626\u001b[0m             \u001b[1;32mexcept\u001b[0m \u001b[1;33m(\u001b[0m\u001b[0mValueError\u001b[0m\u001b[1;33m,\u001b[0m \u001b[0mTypeError\u001b[0m\u001b[1;33m)\u001b[0m\u001b[1;33m:\u001b[0m\u001b[1;33m\u001b[0m\u001b[1;33m\u001b[0m\u001b[0m\n\u001b[0;32m    627\u001b[0m                 \u001b[1;31m# e.g. astype_nansafe can fail on object-dtype of strings\u001b[0m\u001b[1;33m\u001b[0m\u001b[1;33m\u001b[0m\u001b[1;33m\u001b[0m\u001b[0m\n",
      "\u001b[1;32m~\\anaconda3\\lib\\site-packages\\pandas\\core\\dtypes\\cast.py\u001b[0m in \u001b[0;36mastype_nansafe\u001b[1;34m(arr, dtype, copy, skipna)\u001b[0m\n\u001b[0;32m    872\u001b[0m         \u001b[1;31m# work around NumPy brokenness, #1987\u001b[0m\u001b[1;33m\u001b[0m\u001b[1;33m\u001b[0m\u001b[1;33m\u001b[0m\u001b[0m\n\u001b[0;32m    873\u001b[0m         \u001b[1;32mif\u001b[0m \u001b[0mnp\u001b[0m\u001b[1;33m.\u001b[0m\u001b[0missubdtype\u001b[0m\u001b[1;33m(\u001b[0m\u001b[0mdtype\u001b[0m\u001b[1;33m.\u001b[0m\u001b[0mtype\u001b[0m\u001b[1;33m,\u001b[0m \u001b[0mnp\u001b[0m\u001b[1;33m.\u001b[0m\u001b[0minteger\u001b[0m\u001b[1;33m)\u001b[0m\u001b[1;33m:\u001b[0m\u001b[1;33m\u001b[0m\u001b[1;33m\u001b[0m\u001b[0m\n\u001b[1;32m--> 874\u001b[1;33m             \u001b[1;32mreturn\u001b[0m \u001b[0mlib\u001b[0m\u001b[1;33m.\u001b[0m\u001b[0mastype_intsafe\u001b[0m\u001b[1;33m(\u001b[0m\u001b[0marr\u001b[0m\u001b[1;33m.\u001b[0m\u001b[0mravel\u001b[0m\u001b[1;33m(\u001b[0m\u001b[1;33m)\u001b[0m\u001b[1;33m,\u001b[0m \u001b[0mdtype\u001b[0m\u001b[1;33m)\u001b[0m\u001b[1;33m.\u001b[0m\u001b[0mreshape\u001b[0m\u001b[1;33m(\u001b[0m\u001b[0marr\u001b[0m\u001b[1;33m.\u001b[0m\u001b[0mshape\u001b[0m\u001b[1;33m)\u001b[0m\u001b[1;33m\u001b[0m\u001b[1;33m\u001b[0m\u001b[0m\n\u001b[0m\u001b[0;32m    875\u001b[0m \u001b[1;33m\u001b[0m\u001b[0m\n\u001b[0;32m    876\u001b[0m         \u001b[1;31m# if we have a datetime/timedelta array of objects\u001b[0m\u001b[1;33m\u001b[0m\u001b[1;33m\u001b[0m\u001b[1;33m\u001b[0m\u001b[0m\n",
      "\u001b[1;32mpandas\\_libs\\lib.pyx\u001b[0m in \u001b[0;36mpandas._libs.lib.astype_intsafe\u001b[1;34m()\u001b[0m\n",
      "\u001b[1;31mValueError\u001b[0m: invalid literal for int() with base 10: 'male_happy'"
     ]
    }
   ],
   "source": [
    "# predictions \n",
    "preds = preds.astype(int).flatten()\n",
    "preds = (lb.inverse_transform((preds)))\n",
    "preds = pd.DataFrame({'predictedvalues': preds})\n",
    "\n",
    "# Actual labels\n",
    "actual=y_test.argmax(axis=1)\n",
    "actual = actual.astype(int).flatten()\n",
    "actual = (lb.inverse_transform((actual)))\n",
    "actual = pd.DataFrame({'actualvalues': actual})\n",
    "\n",
    "# Lets combined both of them into a single dataframe\n",
    "finaldff = actual.join(preds)\n",
    "finaldff[0:10]"
   ]
  },
  {
   "cell_type": "code",
   "execution_count": 83,
   "metadata": {},
   "outputs": [
    {
     "data": {
      "text/html": [
       "<div>\n",
       "<style scoped>\n",
       "    .dataframe tbody tr th:only-of-type {\n",
       "        vertical-align: middle;\n",
       "    }\n",
       "\n",
       "    .dataframe tbody tr th {\n",
       "        vertical-align: top;\n",
       "    }\n",
       "\n",
       "    .dataframe thead th {\n",
       "        text-align: right;\n",
       "    }\n",
       "</style>\n",
       "<table border=\"1\" class=\"dataframe\">\n",
       "  <thead>\n",
       "    <tr style=\"text-align: right;\">\n",
       "      <th></th>\n",
       "      <th>actualvalues</th>\n",
       "    </tr>\n",
       "    <tr>\n",
       "      <th>predictedvalues</th>\n",
       "      <th></th>\n",
       "    </tr>\n",
       "  </thead>\n",
       "  <tbody>\n",
       "    <tr>\n",
       "      <th>female_angry</th>\n",
       "      <td>192</td>\n",
       "    </tr>\n",
       "    <tr>\n",
       "      <th>female_disgust</th>\n",
       "      <td>222</td>\n",
       "    </tr>\n",
       "    <tr>\n",
       "      <th>female_fear</th>\n",
       "      <td>217</td>\n",
       "    </tr>\n",
       "    <tr>\n",
       "      <th>female_happy</th>\n",
       "      <td>224</td>\n",
       "    </tr>\n",
       "    <tr>\n",
       "      <th>female_neutral</th>\n",
       "      <td>263</td>\n",
       "    </tr>\n",
       "    <tr>\n",
       "      <th>female_sad</th>\n",
       "      <td>200</td>\n",
       "    </tr>\n",
       "    <tr>\n",
       "      <th>female_surprise</th>\n",
       "      <td>108</td>\n",
       "    </tr>\n",
       "    <tr>\n",
       "      <th>male_angry</th>\n",
       "      <td>116</td>\n",
       "    </tr>\n",
       "    <tr>\n",
       "      <th>male_disgust</th>\n",
       "      <td>139</td>\n",
       "    </tr>\n",
       "    <tr>\n",
       "      <th>male_fear</th>\n",
       "      <td>139</td>\n",
       "    </tr>\n",
       "    <tr>\n",
       "      <th>male_happy</th>\n",
       "      <td>200</td>\n",
       "    </tr>\n",
       "    <tr>\n",
       "      <th>male_neutral</th>\n",
       "      <td>202</td>\n",
       "    </tr>\n",
       "    <tr>\n",
       "      <th>male_sad</th>\n",
       "      <td>156</td>\n",
       "    </tr>\n",
       "    <tr>\n",
       "      <th>male_surprise</th>\n",
       "      <td>55</td>\n",
       "    </tr>\n",
       "  </tbody>\n",
       "</table>\n",
       "</div>"
      ],
      "text/plain": [
       "                 actualvalues\n",
       "predictedvalues              \n",
       "female_angry              192\n",
       "female_disgust            222\n",
       "female_fear               217\n",
       "female_happy              224\n",
       "female_neutral            263\n",
       "female_sad                200\n",
       "female_surprise           108\n",
       "male_angry                116\n",
       "male_disgust              139\n",
       "male_fear                 139\n",
       "male_happy                200\n",
       "male_neutral              202\n",
       "male_sad                  156\n",
       "male_surprise              55"
      ]
     },
     "execution_count": 83,
     "metadata": {},
     "output_type": "execute_result"
    }
   ],
   "source": [
    "# Write out the predictions to disk\n",
    "finaldf.to_csv('C:/Users/Moritz/Desktop/Data/Predictionslol.csv', index=False)\n",
    "finaldf.groupby('predictedvalues').count()"
   ]
  },
  {
   "cell_type": "code",
   "execution_count": 84,
   "metadata": {},
   "outputs": [],
   "source": [
    "# Get the predictions file \n",
    "finaldf = pd.read_csv(\"C:/Users/Moritz/Desktop/Data/Predictionslol.csv\")\n",
    "classes = finaldf.actualvalues.unique()\n",
    "classes.sort() "
   ]
  },
  {
   "cell_type": "code",
   "execution_count": 85,
   "metadata": {},
   "outputs": [
    {
     "name": "stdout",
     "output_type": "stream",
     "text": [
      "0.7114673242909988\n"
     ]
    },
    {
     "data": {
      "image/png": "[encoded data removed]",
      "text/plain": [
       "<Figure size 720x504 with 2 Axes>"
      ]
     },
     "metadata": {
      "needs_background": "light"
     },
     "output_type": "display_data"
    }
   ],
   "source": [
    "# Confusion matrix \n",
    "c = confusion_matrix(finaldf.actualvalues, finaldf.predictedvalues)\n",
    "print(accuracy_score(finaldf.actualvalues, finaldf.predictedvalues))\n",
    "print_confusion_matrix(c, class_names = classes)"
   ]
  },
  {
   "cell_type": "code",
   "execution_count": 86,
   "metadata": {},
   "outputs": [],
   "source": [
    "# sklearn\n",
    "from sklearn.metrics import confusion_matrix, accuracy_score, classification_report\n",
    "from sklearn.model_selection import train_test_split\n",
    "from sklearn.preprocessing import LabelEncoder\n"
   ]
  },
  {
   "cell_type": "code",
   "execution_count": 87,
   "metadata": {},
   "outputs": [
    {
     "name": "stdout",
     "output_type": "stream",
     "text": [
      "                 precision    recall  f1-score   support\n",
      "\n",
      "   female_angry       0.92      0.76      0.83       232\n",
      " female_disgust       0.77      0.79      0.78       217\n",
      "    female_fear       0.74      0.75      0.75       212\n",
      "   female_happy       0.78      0.78      0.78       224\n",
      " female_neutral       0.71      0.92      0.80       204\n",
      "     female_sad       0.77      0.68      0.72       226\n",
      "female_surprise       0.97      0.99      0.98       106\n",
      "     male_angry       0.80      0.58      0.67       160\n",
      "   male_disgust       0.60      0.54      0.57       157\n",
      "      male_fear       0.58      0.49      0.53       167\n",
      "     male_happy       0.54      0.62      0.58       175\n",
      "   male_neutral       0.61      0.73      0.67       169\n",
      "       male_sad       0.53      0.58      0.55       144\n",
      "  male_surprise       0.55      0.75      0.63        40\n",
      "\n",
      "       accuracy                           0.71      2433\n",
      "      macro avg       0.71      0.71      0.70      2433\n",
      "   weighted avg       0.72      0.71      0.71      2433\n",
      "\n"
     ]
    }
   ],
   "source": [
    "# Classification report \n",
    "classes = finaldf.actualvalues.unique()\n",
    "classes.sort()    \n",
    "print(classification_report(finaldf.actualvalues, finaldf.predictedvalues, target_names=classes))"
   ]
  },
  {
   "cell_type": "code",
   "execution_count": 99,
   "metadata": {},
   "outputs": [
    {
     "name": "stdout",
     "output_type": "stream",
     "text": [
      "0.717632552404439\n"
     ]
    },
    {
     "data": {
      "image/png": "[encoded data removed]",
      "text/plain": [
       "<Figure size 720x504 with 2 Axes>"
      ]
     },
     "metadata": {
      "needs_background": "light"
     },
     "output_type": "display_data"
    }
   ],
   "source": [
    "modidf = pd.read_csv(\"C:/Users/Moritz/Desktop/Data/Predictionslol.csv\")\n",
    "modidf['actualvalues'] = modidf.actualvalues.replace({'female_angry':'angry'\n",
    "                                       , 'female_disgust':'disgust'\n",
    "                                       , 'female_fear':'fear'\n",
    "                                       , 'female_happy':'happy'\n",
    "                                       , 'female_sad':'sad'\n",
    "                                       , 'female_surprise':'surprise'\n",
    "                                       , 'female_neutral':'neutral'\n",
    "                                       , 'male_angry':'angry'\n",
    "                                       , 'male_fear':'fear'\n",
    "                                       , 'male_happy':'happy'\n",
    "                                       , 'male_sad':'sad'\n",
    "                                       , 'male_surprise':'surprise'\n",
    "                                       , 'male_neutral':'neutral'\n",
    "                                       , 'male_disgust':'disgust'\n",
    "                                      })\n",
    "\n",
    "modidf['predictedvalues'] = modidf.predictedvalues.replace({'female_angry':'angry'\n",
    "                                       , 'female_disgust':'disgust'\n",
    "                                       , 'female_fear':'fear'\n",
    "                                       , 'female_happy':'happy'\n",
    "                                       , 'female_sad':'sad'\n",
    "                                       , 'female_surprise':'surprise'\n",
    "                                       , 'female_neutral':'neutral'\n",
    "                                       , 'male_angry':'angry'\n",
    "                                       , 'male_fear':'fear'\n",
    "                                       , 'male_happy':'happy'\n",
    "                                       , 'male_sad':'sad'\n",
    "                                       , 'male_surprise':'surprise'\n",
    "                                       , 'male_neutral':'neutral'\n",
    "                                       , 'male_disgust':'disgust'\n",
    "                                      })\n",
    "\n",
    "classes = modidf.actualvalues.unique() \n",
    "classes.sort() \n",
    "\n",
    "# Confusion matrix \n",
    "c = confusion_matrix(modidf.actualvalues, modidf.predictedvalues)\n",
    "print(accuracy_score(modidf.actualvalues, modidf.predictedvalues))\n",
    "print_confusion_matrix(c, class_names = classes)"
   ]
  },
  {
   "cell_type": "code",
   "execution_count": 100,
   "metadata": {},
   "outputs": [
    {
     "data": {
      "text/plain": [
       "array([0.69132653, 0.69251337, 0.64379947, 0.71177945, 0.83646113,\n",
       "       0.65135135, 0.92465753])"
      ]
     },
     "execution_count": 100,
     "metadata": {},
     "output_type": "execute_result"
    }
   ],
   "source": [
    "c.diagonal()/c.sum(axis=1)"
   ]
  },
  {
   "cell_type": "code",
   "execution_count": 101,
   "metadata": {},
   "outputs": [
    {
     "name": "stdout",
     "output_type": "stream",
     "text": [
      "153/153 - 4s\n",
      "0.8479243732018085\n"
     ]
    },
    {
     "data": {
      "image/png": "[encoded data removed]",
      "text/plain": [
       "<Figure size 720x504 with 2 Axes>"
      ]
     },
     "metadata": {
      "needs_background": "light"
     },
     "output_type": "display_data"
    }
   ],
   "source": [
    "results.accuracy_results_gender(X_test, y_test, dat.labels.unique(), model)"
   ]
  }
 ],
 "metadata": {
  "kernelspec": {
   "display_name": "Python 3",
   "language": "python",
   "name": "python3"
  },
  "language_info": {
   "codemirror_mode": {
    "name": "ipython",
    "version": 3
   },
   "file_extension": ".py",
   "mimetype": "text/x-python",
   "name": "python",
   "nbconvert_exporter": "python",
   "pygments_lexer": "ipython3",
   "version": "3.8.3"
  }
 },
 "nbformat": 4,
 "nbformat_minor": 4
}
